{
 "cells": [
  {
   "cell_type": "markdown",
   "metadata": {},
   "source": [
    "# Dalton Schoen\n"
   ]
  },
  {
   "cell_type": "markdown",
   "metadata": {},
   "source": [
    "## Midterm Project\n",
    "\n",
    "\"On my honor, as a student, I have neither given\n",
    "nor received unauthorized aid on this academic work.\"\n",
    "\n",
    "10/16/19"
   ]
  },
  {
   "cell_type": "markdown",
   "metadata": {
    "collapsed": true
   },
   "source": [
    "## 1. Introduction"
   ]
  },
  {
   "cell_type": "markdown",
   "metadata": {},
   "source": [
    "### 1.1 Background"
   ]
  },
  {
   "cell_type": "markdown",
   "metadata": {},
   "source": [
    "There are several factors that go into an IMDB score. By looking into certain things that we have data on provided in the data set, hopefully we can more accurately predict what goes into a good IMDB score. This project will go through an analysis of things such as ratings, director names, facebook likes and several other things. The goal is to be able to more accurately identify what goes into a good IMDB score."
   ]
  },
  {
   "cell_type": "markdown",
   "metadata": {},
   "source": [
    "### 1.2 Data Description"
   ]
  },
  {
   "cell_type": "markdown",
   "metadata": {},
   "source": [
    "The dataset that has been provided for the pjoject was taken from data world and can be found here. https://data.world/popculture/imdb-5000-movie-dataset\n",
    "\n",
    "The data set contains information about movies and how it relates to the IMDB score. Some of the data includes title, duration, likes, names, and several other factors."
   ]
  },
  {
   "cell_type": "markdown",
   "metadata": {},
   "source": [
    "### 1.3 Problem Statement"
   ]
  },
  {
   "cell_type": "markdown",
   "metadata": {},
   "source": [
    "We would like to analyze the given dataset to see if we can draw relationships between certain variables to better predict what factors can positively influence the IMDB score. "
   ]
  },
  {
   "cell_type": "markdown",
   "metadata": {},
   "source": [
    "## 2. Data Exploration"
   ]
  },
  {
   "cell_type": "code",
   "execution_count": 152,
   "metadata": {},
   "outputs": [
    {
     "name": "stdout",
     "output_type": "stream",
     "text": [
      "Requirement already satisfied: pingouin in /opt/anaconda3/lib/python3.7/site-packages (0.3.1)\n",
      "Requirement already satisfied: matplotlib>=3.0.2 in /opt/anaconda3/lib/python3.7/site-packages (from pingouin) (3.1.1)\n",
      "Requirement already satisfied: statsmodels>=0.10.0 in /opt/anaconda3/lib/python3.7/site-packages (from pingouin) (0.10.1)\n",
      "Requirement already satisfied: pandas>=0.24 in /opt/anaconda3/lib/python3.7/site-packages (from pingouin) (0.25.1)\n",
      "Requirement already satisfied: numpy>=1.15 in /opt/anaconda3/lib/python3.7/site-packages (from pingouin) (1.17.2)\n",
      "Requirement already satisfied: scipy>=1.3 in /opt/anaconda3/lib/python3.7/site-packages (from pingouin) (1.3.1)\n",
      "Requirement already satisfied: pandas-flavor>=0.1.2 in /opt/anaconda3/lib/python3.7/site-packages (from pingouin) (0.2.0)\n",
      "Requirement already satisfied: seaborn>=0.9.0 in /opt/anaconda3/lib/python3.7/site-packages (from pingouin) (0.9.0)\n",
      "Requirement already satisfied: cycler>=0.10 in /opt/anaconda3/lib/python3.7/site-packages (from matplotlib>=3.0.2->pingouin) (0.10.0)\n",
      "Requirement already satisfied: kiwisolver>=1.0.1 in /opt/anaconda3/lib/python3.7/site-packages (from matplotlib>=3.0.2->pingouin) (1.1.0)\n",
      "Requirement already satisfied: pyparsing!=2.0.4,!=2.1.2,!=2.1.6,>=2.0.1 in /opt/anaconda3/lib/python3.7/site-packages (from matplotlib>=3.0.2->pingouin) (2.4.2)\n",
      "Requirement already satisfied: python-dateutil>=2.1 in /opt/anaconda3/lib/python3.7/site-packages (from matplotlib>=3.0.2->pingouin) (2.8.0)\n",
      "Requirement already satisfied: patsy>=0.4.0 in /opt/anaconda3/lib/python3.7/site-packages (from statsmodels>=0.10.0->pingouin) (0.5.1)\n",
      "Requirement already satisfied: pytz>=2017.2 in /opt/anaconda3/lib/python3.7/site-packages (from pandas>=0.24->pingouin) (2019.3)\n",
      "Requirement already satisfied: xarray in /opt/anaconda3/lib/python3.7/site-packages (from pandas-flavor>=0.1.2->pingouin) (0.14.1)\n",
      "Requirement already satisfied: six in /opt/anaconda3/lib/python3.7/site-packages (from cycler>=0.10->matplotlib>=3.0.2->pingouin) (1.12.0)\n",
      "Requirement already satisfied: setuptools in /opt/anaconda3/lib/python3.7/site-packages (from kiwisolver>=1.0.1->matplotlib>=3.0.2->pingouin) (41.4.0)\n"
     ]
    }
   ],
   "source": [
    "!pip install pingouin\n"
   ]
  },
  {
   "cell_type": "code",
   "execution_count": 153,
   "metadata": {},
   "outputs": [
    {
     "name": "stdout",
     "output_type": "stream",
     "text": [
      "Requirement already satisfied: seaborn in /opt/anaconda3/lib/python3.7/site-packages (0.9.0)\n",
      "Requirement already satisfied: matplotlib>=1.4.3 in /opt/anaconda3/lib/python3.7/site-packages (from seaborn) (3.1.1)\n",
      "Requirement already satisfied: pandas>=0.15.2 in /opt/anaconda3/lib/python3.7/site-packages (from seaborn) (0.25.1)\n",
      "Requirement already satisfied: scipy>=0.14.0 in /opt/anaconda3/lib/python3.7/site-packages (from seaborn) (1.3.1)\n",
      "Requirement already satisfied: numpy>=1.9.3 in /opt/anaconda3/lib/python3.7/site-packages (from seaborn) (1.17.2)\n",
      "Requirement already satisfied: cycler>=0.10 in /opt/anaconda3/lib/python3.7/site-packages (from matplotlib>=1.4.3->seaborn) (0.10.0)\n",
      "Requirement already satisfied: kiwisolver>=1.0.1 in /opt/anaconda3/lib/python3.7/site-packages (from matplotlib>=1.4.3->seaborn) (1.1.0)\n",
      "Requirement already satisfied: pyparsing!=2.0.4,!=2.1.2,!=2.1.6,>=2.0.1 in /opt/anaconda3/lib/python3.7/site-packages (from matplotlib>=1.4.3->seaborn) (2.4.2)\n",
      "Requirement already satisfied: python-dateutil>=2.1 in /opt/anaconda3/lib/python3.7/site-packages (from matplotlib>=1.4.3->seaborn) (2.8.0)\n",
      "Requirement already satisfied: pytz>=2017.2 in /opt/anaconda3/lib/python3.7/site-packages (from pandas>=0.15.2->seaborn) (2019.3)\n",
      "Requirement already satisfied: six in /opt/anaconda3/lib/python3.7/site-packages (from cycler>=0.10->matplotlib>=1.4.3->seaborn) (1.12.0)\n",
      "Requirement already satisfied: setuptools in /opt/anaconda3/lib/python3.7/site-packages (from kiwisolver>=1.0.1->matplotlib>=1.4.3->seaborn) (41.4.0)\n"
     ]
    }
   ],
   "source": [
    "!pip install seaborn\n"
   ]
  },
  {
   "cell_type": "code",
   "execution_count": 154,
   "metadata": {},
   "outputs": [],
   "source": [
    "import pandas as pd\n",
    "import numpy as np\n",
    "from scipy import stats\n",
    "import matplotlib.pyplot as plt\n",
    "%matplotlib inline\n",
    "\n",
    "import pingouin as pg\n",
    "import seaborn as sns"
   ]
  },
  {
   "cell_type": "markdown",
   "metadata": {},
   "source": [
    "### 2.1 Load Data"
   ]
  },
  {
   "cell_type": "code",
   "execution_count": 155,
   "metadata": {},
   "outputs": [
    {
     "data": {
      "text/html": [
       "<div>\n",
       "<style scoped>\n",
       "    .dataframe tbody tr th:only-of-type {\n",
       "        vertical-align: middle;\n",
       "    }\n",
       "\n",
       "    .dataframe tbody tr th {\n",
       "        vertical-align: top;\n",
       "    }\n",
       "\n",
       "    .dataframe thead th {\n",
       "        text-align: right;\n",
       "    }\n",
       "</style>\n",
       "<table border=\"1\" class=\"dataframe\">\n",
       "  <thead>\n",
       "    <tr style=\"text-align: right;\">\n",
       "      <th></th>\n",
       "      <th>color</th>\n",
       "      <th>director_name</th>\n",
       "      <th>num_critic_for_reviews</th>\n",
       "      <th>duration</th>\n",
       "      <th>director_facebook_likes</th>\n",
       "      <th>actor_3_facebook_likes</th>\n",
       "      <th>actor_2_name</th>\n",
       "      <th>actor_1_facebook_likes</th>\n",
       "      <th>gross</th>\n",
       "      <th>genres</th>\n",
       "      <th>...</th>\n",
       "      <th>num_user_for_reviews</th>\n",
       "      <th>language</th>\n",
       "      <th>country</th>\n",
       "      <th>content_rating</th>\n",
       "      <th>budget</th>\n",
       "      <th>title_year</th>\n",
       "      <th>actor_2_facebook_likes</th>\n",
       "      <th>imdb_score</th>\n",
       "      <th>aspect_ratio</th>\n",
       "      <th>movie_facebook_likes</th>\n",
       "    </tr>\n",
       "  </thead>\n",
       "  <tbody>\n",
       "    <tr>\n",
       "      <td>0</td>\n",
       "      <td>Color</td>\n",
       "      <td>James Cameron</td>\n",
       "      <td>723.0</td>\n",
       "      <td>178.0</td>\n",
       "      <td>0.0</td>\n",
       "      <td>855.0</td>\n",
       "      <td>Joel David Moore</td>\n",
       "      <td>1000.0</td>\n",
       "      <td>760505847.0</td>\n",
       "      <td>Action|Adventure|Fantasy|Sci-Fi</td>\n",
       "      <td>...</td>\n",
       "      <td>3054.0</td>\n",
       "      <td>English</td>\n",
       "      <td>USA</td>\n",
       "      <td>PG-13</td>\n",
       "      <td>237000000.0</td>\n",
       "      <td>2009.0</td>\n",
       "      <td>936.0</td>\n",
       "      <td>7.9</td>\n",
       "      <td>1.78</td>\n",
       "      <td>33000</td>\n",
       "    </tr>\n",
       "    <tr>\n",
       "      <td>1</td>\n",
       "      <td>Color</td>\n",
       "      <td>Gore Verbinski</td>\n",
       "      <td>302.0</td>\n",
       "      <td>169.0</td>\n",
       "      <td>563.0</td>\n",
       "      <td>1000.0</td>\n",
       "      <td>Orlando Bloom</td>\n",
       "      <td>40000.0</td>\n",
       "      <td>309404152.0</td>\n",
       "      <td>Action|Adventure|Fantasy</td>\n",
       "      <td>...</td>\n",
       "      <td>1238.0</td>\n",
       "      <td>English</td>\n",
       "      <td>USA</td>\n",
       "      <td>PG-13</td>\n",
       "      <td>300000000.0</td>\n",
       "      <td>2007.0</td>\n",
       "      <td>5000.0</td>\n",
       "      <td>7.1</td>\n",
       "      <td>2.35</td>\n",
       "      <td>0</td>\n",
       "    </tr>\n",
       "    <tr>\n",
       "      <td>2</td>\n",
       "      <td>Color</td>\n",
       "      <td>Sam Mendes</td>\n",
       "      <td>602.0</td>\n",
       "      <td>148.0</td>\n",
       "      <td>0.0</td>\n",
       "      <td>161.0</td>\n",
       "      <td>Rory Kinnear</td>\n",
       "      <td>11000.0</td>\n",
       "      <td>200074175.0</td>\n",
       "      <td>Action|Adventure|Thriller</td>\n",
       "      <td>...</td>\n",
       "      <td>994.0</td>\n",
       "      <td>English</td>\n",
       "      <td>UK</td>\n",
       "      <td>PG-13</td>\n",
       "      <td>245000000.0</td>\n",
       "      <td>2015.0</td>\n",
       "      <td>393.0</td>\n",
       "      <td>6.8</td>\n",
       "      <td>2.35</td>\n",
       "      <td>85000</td>\n",
       "    </tr>\n",
       "    <tr>\n",
       "      <td>3</td>\n",
       "      <td>Color</td>\n",
       "      <td>Christopher Nolan</td>\n",
       "      <td>813.0</td>\n",
       "      <td>164.0</td>\n",
       "      <td>22000.0</td>\n",
       "      <td>23000.0</td>\n",
       "      <td>Christian Bale</td>\n",
       "      <td>27000.0</td>\n",
       "      <td>448130642.0</td>\n",
       "      <td>Action|Thriller</td>\n",
       "      <td>...</td>\n",
       "      <td>2701.0</td>\n",
       "      <td>English</td>\n",
       "      <td>USA</td>\n",
       "      <td>PG-13</td>\n",
       "      <td>250000000.0</td>\n",
       "      <td>2012.0</td>\n",
       "      <td>23000.0</td>\n",
       "      <td>8.5</td>\n",
       "      <td>2.35</td>\n",
       "      <td>164000</td>\n",
       "    </tr>\n",
       "    <tr>\n",
       "      <td>4</td>\n",
       "      <td>NaN</td>\n",
       "      <td>Doug Walker</td>\n",
       "      <td>NaN</td>\n",
       "      <td>NaN</td>\n",
       "      <td>131.0</td>\n",
       "      <td>NaN</td>\n",
       "      <td>Rob Walker</td>\n",
       "      <td>131.0</td>\n",
       "      <td>NaN</td>\n",
       "      <td>Documentary</td>\n",
       "      <td>...</td>\n",
       "      <td>NaN</td>\n",
       "      <td>NaN</td>\n",
       "      <td>NaN</td>\n",
       "      <td>NaN</td>\n",
       "      <td>NaN</td>\n",
       "      <td>NaN</td>\n",
       "      <td>12.0</td>\n",
       "      <td>7.1</td>\n",
       "      <td>NaN</td>\n",
       "      <td>0</td>\n",
       "    </tr>\n",
       "  </tbody>\n",
       "</table>\n",
       "<p>5 rows × 28 columns</p>\n",
       "</div>"
      ],
      "text/plain": [
       "   color      director_name  num_critic_for_reviews  duration  \\\n",
       "0  Color      James Cameron                   723.0     178.0   \n",
       "1  Color     Gore Verbinski                   302.0     169.0   \n",
       "2  Color         Sam Mendes                   602.0     148.0   \n",
       "3  Color  Christopher Nolan                   813.0     164.0   \n",
       "4    NaN        Doug Walker                     NaN       NaN   \n",
       "\n",
       "   director_facebook_likes  actor_3_facebook_likes      actor_2_name  \\\n",
       "0                      0.0                   855.0  Joel David Moore   \n",
       "1                    563.0                  1000.0     Orlando Bloom   \n",
       "2                      0.0                   161.0      Rory Kinnear   \n",
       "3                  22000.0                 23000.0    Christian Bale   \n",
       "4                    131.0                     NaN        Rob Walker   \n",
       "\n",
       "   actor_1_facebook_likes        gross                           genres  ...  \\\n",
       "0                  1000.0  760505847.0  Action|Adventure|Fantasy|Sci-Fi  ...   \n",
       "1                 40000.0  309404152.0         Action|Adventure|Fantasy  ...   \n",
       "2                 11000.0  200074175.0        Action|Adventure|Thriller  ...   \n",
       "3                 27000.0  448130642.0                  Action|Thriller  ...   \n",
       "4                   131.0          NaN                      Documentary  ...   \n",
       "\n",
       "  num_user_for_reviews language  country  content_rating       budget  \\\n",
       "0               3054.0  English      USA           PG-13  237000000.0   \n",
       "1               1238.0  English      USA           PG-13  300000000.0   \n",
       "2                994.0  English       UK           PG-13  245000000.0   \n",
       "3               2701.0  English      USA           PG-13  250000000.0   \n",
       "4                  NaN      NaN      NaN             NaN          NaN   \n",
       "\n",
       "   title_year actor_2_facebook_likes imdb_score  aspect_ratio  \\\n",
       "0      2009.0                  936.0        7.9          1.78   \n",
       "1      2007.0                 5000.0        7.1          2.35   \n",
       "2      2015.0                  393.0        6.8          2.35   \n",
       "3      2012.0                23000.0        8.5          2.35   \n",
       "4         NaN                   12.0        7.1           NaN   \n",
       "\n",
       "  movie_facebook_likes  \n",
       "0                33000  \n",
       "1                    0  \n",
       "2                85000  \n",
       "3               164000  \n",
       "4                    0  \n",
       "\n",
       "[5 rows x 28 columns]"
      ]
     },
     "execution_count": 155,
     "metadata": {},
     "output_type": "execute_result"
    }
   ],
   "source": [
    "df = pd.read_excel('movieData.xls')\n",
    "df.head()"
   ]
  },
  {
   "cell_type": "raw",
   "metadata": {},
   "source": [
    "df = pd.read_csv('movieData.csv',encoding = \"ISO-8859-1\")\n",
    "df.head()"
   ]
  },
  {
   "cell_type": "markdown",
   "metadata": {},
   "source": [
    "### 2.3 Remove Duplicates"
   ]
  },
  {
   "cell_type": "code",
   "execution_count": 156,
   "metadata": {},
   "outputs": [
    {
     "name": "stdout",
     "output_type": "stream",
     "text": [
      "<class 'pandas.core.frame.DataFrame'>\n",
      "RangeIndex: 5043 entries, 0 to 5042\n",
      "Data columns (total 28 columns):\n",
      "color                        5024 non-null object\n",
      "director_name                4939 non-null object\n",
      "num_critic_for_reviews       4993 non-null float64\n",
      "duration                     5028 non-null float64\n",
      "director_facebook_likes      4939 non-null float64\n",
      "actor_3_facebook_likes       5020 non-null float64\n",
      "actor_2_name                 5030 non-null object\n",
      "actor_1_facebook_likes       5036 non-null float64\n",
      "gross                        4159 non-null float64\n",
      "genres                       5043 non-null object\n",
      "actor_1_name                 5036 non-null object\n",
      "movie_title                  5043 non-null object\n",
      "num_voted_users              5043 non-null int64\n",
      "cast_total_facebook_likes    5043 non-null int64\n",
      "actor_3_name                 5020 non-null object\n",
      "facenumber_in_poster         5030 non-null float64\n",
      "plot_keywords                4890 non-null object\n",
      "movie_imdb_link              5043 non-null object\n",
      "num_user_for_reviews         5022 non-null float64\n",
      "language                     5031 non-null object\n",
      "country                      5038 non-null object\n",
      "content_rating               4740 non-null object\n",
      "budget                       4551 non-null float64\n",
      "title_year                   4935 non-null float64\n",
      "actor_2_facebook_likes       5030 non-null float64\n",
      "imdb_score                   5043 non-null float64\n",
      "aspect_ratio                 4714 non-null float64\n",
      "movie_facebook_likes         5043 non-null int64\n",
      "dtypes: float64(13), int64(3), object(12)\n",
      "memory usage: 1.1+ MB\n"
     ]
    }
   ],
   "source": [
    "df.info()"
   ]
  },
  {
   "cell_type": "code",
   "execution_count": 157,
   "metadata": {},
   "outputs": [
    {
     "data": {
      "text/plain": [
       "5043"
      ]
     },
     "execution_count": 157,
     "metadata": {},
     "output_type": "execute_result"
    }
   ],
   "source": [
    "len(df)"
   ]
  },
  {
   "cell_type": "code",
   "execution_count": 158,
   "metadata": {},
   "outputs": [],
   "source": [
    "df = df.drop_duplicates(keep=\"last\")"
   ]
  },
  {
   "cell_type": "code",
   "execution_count": 159,
   "metadata": {},
   "outputs": [
    {
     "data": {
      "text/plain": [
       "4998"
      ]
     },
     "execution_count": 159,
     "metadata": {},
     "output_type": "execute_result"
    }
   ],
   "source": [
    "len(df)"
   ]
  },
  {
   "cell_type": "markdown",
   "metadata": {},
   "source": [
    "### Familiarize with the Data"
   ]
  },
  {
   "cell_type": "markdown",
   "metadata": {},
   "source": [
    "#### Look into different types of movies based of different attributes such as their content rating, country of orgin, language, etc."
   ]
  },
  {
   "cell_type": "code",
   "execution_count": 160,
   "metadata": {},
   "outputs": [
    {
     "data": {
      "text/plain": [
       "R            2098\n",
       "PG-13        1444\n",
       "PG            698\n",
       "Not Rated     116\n",
       "G             112\n",
       "Unrated        60\n",
       "Approved       55\n",
       "TV-14          30\n",
       "TV-MA          19\n",
       "TV-PG          13\n",
       "X              13\n",
       "TV-G           10\n",
       "Passed          9\n",
       "NC-17           7\n",
       "GP              6\n",
       "M               5\n",
       "TV-Y            1\n",
       "TV-Y7           1\n",
       "Name: content_rating, dtype: int64"
      ]
     },
     "execution_count": 160,
     "metadata": {},
     "output_type": "execute_result"
    }
   ],
   "source": [
    "df['content_rating'].value_counts()"
   ]
  },
  {
   "cell_type": "code",
   "execution_count": 161,
   "metadata": {},
   "outputs": [
    {
     "data": {
      "text/plain": [
       "USA          3773\n",
       "UK            443\n",
       "France        154\n",
       "Canada        124\n",
       "Germany        96\n",
       "Australia      55\n",
       "India          34\n",
       "Spain          33\n",
       "China          28\n",
       "Italy          23\n",
       "Name: country, dtype: int64"
      ]
     },
     "execution_count": 161,
     "metadata": {},
     "output_type": "execute_result"
    }
   ],
   "source": [
    "df['country'].value_counts().head(10)"
   ]
  },
  {
   "cell_type": "code",
   "execution_count": 162,
   "metadata": {},
   "outputs": [
    {
     "data": {
      "text/plain": [
       "English      4662\n",
       "French         73\n",
       "Spanish        40\n",
       "Hindi          28\n",
       "Mandarin       24\n",
       "German         19\n",
       "Japanese       17\n",
       "Russian        11\n",
       "Cantonese      11\n",
       "Italian        11\n",
       "Name: language, dtype: int64"
      ]
     },
     "execution_count": 162,
     "metadata": {},
     "output_type": "execute_result"
    }
   ],
   "source": [
    "df['language'].value_counts().head(10)"
   ]
  },
  {
   "cell_type": "markdown",
   "metadata": {},
   "source": [
    "#### Looks as though we have a very broad data set that includes movies of all ratings and from many different countries."
   ]
  },
  {
   "cell_type": "code",
   "execution_count": 163,
   "metadata": {},
   "outputs": [
    {
     "data": {
      "text/plain": [
       "genres\n",
       "Action                                                             11\n",
       "Action|Adventure                                                   10\n",
       "Action|Adventure|Animation|Comedy|Crime|Family|Fantasy              1\n",
       "Action|Adventure|Animation|Comedy|Drama|Family|Fantasy|Thriller     1\n",
       "Action|Adventure|Animation|Comedy|Drama|Family|Sci-Fi               2\n",
       "                                                                   ..\n",
       "Sci-Fi|Thriller                                                    10\n",
       "Thriller                                                           19\n",
       "Thriller|War                                                        1\n",
       "Thriller|Western                                                    1\n",
       "Western                                                            12\n",
       "Length: 914, dtype: int64"
      ]
     },
     "execution_count": 163,
     "metadata": {},
     "output_type": "execute_result"
    }
   ],
   "source": [
    "df.groupby('genres').size()"
   ]
  },
  {
   "cell_type": "markdown",
   "metadata": {},
   "source": [
    "### 3. Data Cleaning"
   ]
  },
  {
   "cell_type": "markdown",
   "metadata": {},
   "source": [
    "### 3.1 Missing Values"
   ]
  },
  {
   "cell_type": "code",
   "execution_count": 164,
   "metadata": {},
   "outputs": [
    {
     "data": {
      "text/plain": [
       "color                         19\n",
       "director_name                103\n",
       "num_critic_for_reviews        49\n",
       "duration                      15\n",
       "director_facebook_likes      103\n",
       "actor_3_facebook_likes        23\n",
       "actor_2_name                  13\n",
       "actor_1_facebook_likes         7\n",
       "gross                        874\n",
       "genres                         0\n",
       "actor_1_name                   7\n",
       "movie_title                    0\n",
       "num_voted_users                0\n",
       "cast_total_facebook_likes      0\n",
       "actor_3_name                  23\n",
       "facenumber_in_poster          13\n",
       "plot_keywords                152\n",
       "movie_imdb_link                0\n",
       "num_user_for_reviews          21\n",
       "language                      12\n",
       "country                        5\n",
       "content_rating               301\n",
       "budget                       487\n",
       "title_year                   107\n",
       "actor_2_facebook_likes        13\n",
       "imdb_score                     0\n",
       "aspect_ratio                 327\n",
       "movie_facebook_likes           0\n",
       "dtype: int64"
      ]
     },
     "execution_count": 164,
     "metadata": {},
     "output_type": "execute_result"
    }
   ],
   "source": [
    "df.isnull().sum()"
   ]
  },
  {
   "cell_type": "code",
   "execution_count": 165,
   "metadata": {},
   "outputs": [
    {
     "data": {
      "text/plain": [
       "color                         19\n",
       "director_name                103\n",
       "num_critic_for_reviews        49\n",
       "duration                      15\n",
       "director_facebook_likes      103\n",
       "actor_3_facebook_likes        23\n",
       "actor_2_name                  13\n",
       "actor_1_facebook_likes         7\n",
       "gross                        874\n",
       "genres                         0\n",
       "actor_1_name                   7\n",
       "movie_title                    0\n",
       "num_voted_users                0\n",
       "cast_total_facebook_likes      0\n",
       "actor_3_name                  23\n",
       "facenumber_in_poster          13\n",
       "plot_keywords                152\n",
       "movie_imdb_link                0\n",
       "num_user_for_reviews          21\n",
       "language                      12\n",
       "country                        5\n",
       "content_rating               301\n",
       "budget                       487\n",
       "title_year                   107\n",
       "actor_2_facebook_likes        13\n",
       "imdb_score                     0\n",
       "aspect_ratio                 327\n",
       "movie_facebook_likes           0\n",
       "dtype: int64"
      ]
     },
     "execution_count": 165,
     "metadata": {},
     "output_type": "execute_result"
    }
   ],
   "source": [
    "df.isnull().sum()"
   ]
  },
  {
   "cell_type": "code",
   "execution_count": 166,
   "metadata": {},
   "outputs": [
    {
     "data": {
      "text/html": [
       "<div>\n",
       "<style scoped>\n",
       "    .dataframe tbody tr th:only-of-type {\n",
       "        vertical-align: middle;\n",
       "    }\n",
       "\n",
       "    .dataframe tbody tr th {\n",
       "        vertical-align: top;\n",
       "    }\n",
       "\n",
       "    .dataframe thead th {\n",
       "        text-align: right;\n",
       "    }\n",
       "</style>\n",
       "<table border=\"1\" class=\"dataframe\">\n",
       "  <thead>\n",
       "    <tr style=\"text-align: right;\">\n",
       "      <th></th>\n",
       "      <th>num_critic_for_reviews</th>\n",
       "      <th>duration</th>\n",
       "      <th>director_facebook_likes</th>\n",
       "      <th>actor_3_facebook_likes</th>\n",
       "      <th>actor_1_facebook_likes</th>\n",
       "      <th>gross</th>\n",
       "      <th>num_voted_users</th>\n",
       "      <th>cast_total_facebook_likes</th>\n",
       "      <th>facenumber_in_poster</th>\n",
       "      <th>num_user_for_reviews</th>\n",
       "      <th>budget</th>\n",
       "      <th>title_year</th>\n",
       "      <th>actor_2_facebook_likes</th>\n",
       "      <th>imdb_score</th>\n",
       "      <th>aspect_ratio</th>\n",
       "      <th>movie_facebook_likes</th>\n",
       "    </tr>\n",
       "  </thead>\n",
       "  <tbody>\n",
       "    <tr>\n",
       "      <td>count</td>\n",
       "      <td>4949.000000</td>\n",
       "      <td>4983.000000</td>\n",
       "      <td>4895.000000</td>\n",
       "      <td>4975.000000</td>\n",
       "      <td>4991.000000</td>\n",
       "      <td>4.124000e+03</td>\n",
       "      <td>4.998000e+03</td>\n",
       "      <td>4998.000000</td>\n",
       "      <td>4985.000000</td>\n",
       "      <td>4977.000000</td>\n",
       "      <td>4.511000e+03</td>\n",
       "      <td>4891.000000</td>\n",
       "      <td>4985.000000</td>\n",
       "      <td>4998.000000</td>\n",
       "      <td>4671.000000</td>\n",
       "      <td>4998.000000</td>\n",
       "    </tr>\n",
       "    <tr>\n",
       "      <td>mean</td>\n",
       "      <td>139.890079</td>\n",
       "      <td>107.213325</td>\n",
       "      <td>688.679060</td>\n",
       "      <td>639.900905</td>\n",
       "      <td>6556.939892</td>\n",
       "      <td>4.832565e+07</td>\n",
       "      <td>8.347020e+04</td>\n",
       "      <td>9676.941176</td>\n",
       "      <td>1.368907</td>\n",
       "      <td>272.014667</td>\n",
       "      <td>3.974787e+07</td>\n",
       "      <td>2002.468820</td>\n",
       "      <td>1642.998796</td>\n",
       "      <td>6.441056</td>\n",
       "      <td>2.221417</td>\n",
       "      <td>7487.430172</td>\n",
       "    </tr>\n",
       "    <tr>\n",
       "      <td>std</td>\n",
       "      <td>121.477586</td>\n",
       "      <td>25.248775</td>\n",
       "      <td>2821.649616</td>\n",
       "      <td>1643.298282</td>\n",
       "      <td>15061.586700</td>\n",
       "      <td>6.796483e+07</td>\n",
       "      <td>1.380866e+05</td>\n",
       "      <td>18165.404578</td>\n",
       "      <td>2.014623</td>\n",
       "      <td>377.776210</td>\n",
       "      <td>2.069689e+08</td>\n",
       "      <td>12.475235</td>\n",
       "      <td>4030.925303</td>\n",
       "      <td>1.124107</td>\n",
       "      <td>1.391185</td>\n",
       "      <td>19290.726563</td>\n",
       "    </tr>\n",
       "    <tr>\n",
       "      <td>min</td>\n",
       "      <td>1.000000</td>\n",
       "      <td>7.000000</td>\n",
       "      <td>0.000000</td>\n",
       "      <td>0.000000</td>\n",
       "      <td>0.000000</td>\n",
       "      <td>1.620000e+02</td>\n",
       "      <td>5.000000e+00</td>\n",
       "      <td>0.000000</td>\n",
       "      <td>0.000000</td>\n",
       "      <td>1.000000</td>\n",
       "      <td>2.180000e+02</td>\n",
       "      <td>1916.000000</td>\n",
       "      <td>0.000000</td>\n",
       "      <td>1.600000</td>\n",
       "      <td>1.180000</td>\n",
       "      <td>0.000000</td>\n",
       "    </tr>\n",
       "    <tr>\n",
       "      <td>25%</td>\n",
       "      <td>50.000000</td>\n",
       "      <td>93.000000</td>\n",
       "      <td>7.000000</td>\n",
       "      <td>133.000000</td>\n",
       "      <td>611.500000</td>\n",
       "      <td>5.304835e+06</td>\n",
       "      <td>8.560000e+03</td>\n",
       "      <td>1405.500000</td>\n",
       "      <td>0.000000</td>\n",
       "      <td>64.000000</td>\n",
       "      <td>6.000000e+06</td>\n",
       "      <td>1999.000000</td>\n",
       "      <td>280.000000</td>\n",
       "      <td>5.800000</td>\n",
       "      <td>1.850000</td>\n",
       "      <td>0.000000</td>\n",
       "    </tr>\n",
       "    <tr>\n",
       "      <td>50%</td>\n",
       "      <td>110.000000</td>\n",
       "      <td>103.000000</td>\n",
       "      <td>49.000000</td>\n",
       "      <td>369.000000</td>\n",
       "      <td>984.000000</td>\n",
       "      <td>2.544575e+07</td>\n",
       "      <td>3.426050e+04</td>\n",
       "      <td>3085.500000</td>\n",
       "      <td>1.000000</td>\n",
       "      <td>156.000000</td>\n",
       "      <td>2.000000e+07</td>\n",
       "      <td>2005.000000</td>\n",
       "      <td>595.000000</td>\n",
       "      <td>6.600000</td>\n",
       "      <td>2.350000</td>\n",
       "      <td>162.500000</td>\n",
       "    </tr>\n",
       "    <tr>\n",
       "      <td>75%</td>\n",
       "      <td>195.000000</td>\n",
       "      <td>118.000000</td>\n",
       "      <td>192.000000</td>\n",
       "      <td>635.000000</td>\n",
       "      <td>11000.000000</td>\n",
       "      <td>6.231942e+07</td>\n",
       "      <td>9.612075e+04</td>\n",
       "      <td>13740.500000</td>\n",
       "      <td>2.000000</td>\n",
       "      <td>324.000000</td>\n",
       "      <td>4.500000e+07</td>\n",
       "      <td>2011.000000</td>\n",
       "      <td>917.000000</td>\n",
       "      <td>7.200000</td>\n",
       "      <td>2.350000</td>\n",
       "      <td>3000.000000</td>\n",
       "    </tr>\n",
       "    <tr>\n",
       "      <td>max</td>\n",
       "      <td>813.000000</td>\n",
       "      <td>511.000000</td>\n",
       "      <td>23000.000000</td>\n",
       "      <td>23000.000000</td>\n",
       "      <td>640000.000000</td>\n",
       "      <td>7.605058e+08</td>\n",
       "      <td>1.689764e+06</td>\n",
       "      <td>656730.000000</td>\n",
       "      <td>43.000000</td>\n",
       "      <td>5060.000000</td>\n",
       "      <td>1.221550e+10</td>\n",
       "      <td>2016.000000</td>\n",
       "      <td>137000.000000</td>\n",
       "      <td>9.500000</td>\n",
       "      <td>16.000000</td>\n",
       "      <td>349000.000000</td>\n",
       "    </tr>\n",
       "  </tbody>\n",
       "</table>\n",
       "</div>"
      ],
      "text/plain": [
       "       num_critic_for_reviews     duration  director_facebook_likes  \\\n",
       "count             4949.000000  4983.000000              4895.000000   \n",
       "mean               139.890079   107.213325               688.679060   \n",
       "std                121.477586    25.248775              2821.649616   \n",
       "min                  1.000000     7.000000                 0.000000   \n",
       "25%                 50.000000    93.000000                 7.000000   \n",
       "50%                110.000000   103.000000                49.000000   \n",
       "75%                195.000000   118.000000               192.000000   \n",
       "max                813.000000   511.000000             23000.000000   \n",
       "\n",
       "       actor_3_facebook_likes  actor_1_facebook_likes         gross  \\\n",
       "count             4975.000000             4991.000000  4.124000e+03   \n",
       "mean               639.900905             6556.939892  4.832565e+07   \n",
       "std               1643.298282            15061.586700  6.796483e+07   \n",
       "min                  0.000000                0.000000  1.620000e+02   \n",
       "25%                133.000000              611.500000  5.304835e+06   \n",
       "50%                369.000000              984.000000  2.544575e+07   \n",
       "75%                635.000000            11000.000000  6.231942e+07   \n",
       "max              23000.000000           640000.000000  7.605058e+08   \n",
       "\n",
       "       num_voted_users  cast_total_facebook_likes  facenumber_in_poster  \\\n",
       "count     4.998000e+03                4998.000000           4985.000000   \n",
       "mean      8.347020e+04                9676.941176              1.368907   \n",
       "std       1.380866e+05               18165.404578              2.014623   \n",
       "min       5.000000e+00                   0.000000              0.000000   \n",
       "25%       8.560000e+03                1405.500000              0.000000   \n",
       "50%       3.426050e+04                3085.500000              1.000000   \n",
       "75%       9.612075e+04               13740.500000              2.000000   \n",
       "max       1.689764e+06              656730.000000             43.000000   \n",
       "\n",
       "       num_user_for_reviews        budget   title_year  \\\n",
       "count           4977.000000  4.511000e+03  4891.000000   \n",
       "mean             272.014667  3.974787e+07  2002.468820   \n",
       "std              377.776210  2.069689e+08    12.475235   \n",
       "min                1.000000  2.180000e+02  1916.000000   \n",
       "25%               64.000000  6.000000e+06  1999.000000   \n",
       "50%              156.000000  2.000000e+07  2005.000000   \n",
       "75%              324.000000  4.500000e+07  2011.000000   \n",
       "max             5060.000000  1.221550e+10  2016.000000   \n",
       "\n",
       "       actor_2_facebook_likes   imdb_score  aspect_ratio  movie_facebook_likes  \n",
       "count             4985.000000  4998.000000   4671.000000           4998.000000  \n",
       "mean              1642.998796     6.441056      2.221417           7487.430172  \n",
       "std               4030.925303     1.124107      1.391185          19290.726563  \n",
       "min                  0.000000     1.600000      1.180000              0.000000  \n",
       "25%                280.000000     5.800000      1.850000              0.000000  \n",
       "50%                595.000000     6.600000      2.350000            162.500000  \n",
       "75%                917.000000     7.200000      2.350000           3000.000000  \n",
       "max             137000.000000     9.500000     16.000000         349000.000000  "
      ]
     },
     "execution_count": 166,
     "metadata": {},
     "output_type": "execute_result"
    }
   ],
   "source": [
    "df.describe()"
   ]
  },
  {
   "cell_type": "markdown",
   "metadata": {},
   "source": [
    "### 3.2 Fix Null Values"
   ]
  },
  {
   "cell_type": "code",
   "execution_count": 167,
   "metadata": {},
   "outputs": [
    {
     "data": {
      "text/plain": [
       "array(['Color', nan, ' Black and White'], dtype=object)"
      ]
     },
     "execution_count": 167,
     "metadata": {},
     "output_type": "execute_result"
    }
   ],
   "source": [
    "df['color'].unique()"
   ]
  },
  {
   "cell_type": "code",
   "execution_count": 168,
   "metadata": {},
   "outputs": [
    {
     "data": {
      "text/plain": [
       "color\n",
       " Black and White     207\n",
       "Color               4772\n",
       "dtype: int64"
      ]
     },
     "execution_count": 168,
     "metadata": {},
     "output_type": "execute_result"
    }
   ],
   "source": [
    "df.groupby('color').size()"
   ]
  },
  {
   "cell_type": "code",
   "execution_count": 169,
   "metadata": {},
   "outputs": [],
   "source": [
    "df['color'].replace({'Color':1, \" Black and White\":0}, inplace=True)"
   ]
  },
  {
   "cell_type": "code",
   "execution_count": 170,
   "metadata": {},
   "outputs": [],
   "source": [
    "df['color'].fillna(1, inplace=True)"
   ]
  },
  {
   "cell_type": "code",
   "execution_count": 171,
   "metadata": {},
   "outputs": [
    {
     "data": {
      "text/plain": [
       "color\n",
       "0.0     207\n",
       "1.0    4791\n",
       "dtype: int64"
      ]
     },
     "execution_count": 171,
     "metadata": {},
     "output_type": "execute_result"
    }
   ],
   "source": [
    "df.groupby('color').size()"
   ]
  },
  {
   "cell_type": "code",
   "execution_count": 172,
   "metadata": {},
   "outputs": [],
   "source": [
    "df['color'] = df['color'].astype(int)"
   ]
  },
  {
   "cell_type": "code",
   "execution_count": 173,
   "metadata": {},
   "outputs": [],
   "source": [
    "df['duration'].fillna(df['duration'].mean(), inplace=True)"
   ]
  },
  {
   "cell_type": "code",
   "execution_count": 174,
   "metadata": {},
   "outputs": [],
   "source": [
    "df['num_critic_for_reviews'].fillna(df['num_critic_for_reviews'].mean(), inplace=True)"
   ]
  },
  {
   "cell_type": "code",
   "execution_count": 175,
   "metadata": {},
   "outputs": [],
   "source": [
    "df['director_facebook_likes'].fillna(0, inplace=True)"
   ]
  },
  {
   "cell_type": "code",
   "execution_count": 176,
   "metadata": {},
   "outputs": [],
   "source": [
    "df['actor_1_facebook_likes'].fillna(0, inplace=True)\n",
    "df['actor_2_facebook_likes'].fillna(0, inplace=True)\n",
    "df['actor_3_facebook_likes'].fillna(0, inplace=True)"
   ]
  },
  {
   "cell_type": "code",
   "execution_count": 177,
   "metadata": {},
   "outputs": [],
   "source": [
    "df['num_user_for_reviews'].fillna(df['num_user_for_reviews'].mean, inplace=True)"
   ]
  },
  {
   "cell_type": "code",
   "execution_count": 178,
   "metadata": {},
   "outputs": [],
   "source": [
    "df['facenumber_in_poster'].fillna(df['facenumber_in_poster'].mean, inplace=True)"
   ]
  },
  {
   "cell_type": "code",
   "execution_count": 179,
   "metadata": {},
   "outputs": [],
   "source": [
    "df['aspect_ratio'].fillna(df['aspect_ratio'].mean, inplace=True)"
   ]
  },
  {
   "cell_type": "code",
   "execution_count": 180,
   "metadata": {},
   "outputs": [],
   "source": [
    "df['language'].fillna('English', inplace=True)"
   ]
  },
  {
   "cell_type": "code",
   "execution_count": 181,
   "metadata": {},
   "outputs": [],
   "source": [
    "df['country'].fillna('USA', inplace=True)"
   ]
  },
  {
   "cell_type": "code",
   "execution_count": 182,
   "metadata": {},
   "outputs": [],
   "source": [
    "df['content_rating'].fillna('NR', inplace=True)"
   ]
  },
  {
   "cell_type": "code",
   "execution_count": 183,
   "metadata": {},
   "outputs": [],
   "source": [
    "df['gross'].fillna(df['gross'].mean(), inplace=True)"
   ]
  },
  {
   "cell_type": "code",
   "execution_count": 184,
   "metadata": {},
   "outputs": [],
   "source": [
    "df['budget'].fillna(df['budget'].mean(), inplace=True)"
   ]
  },
  {
   "cell_type": "code",
   "execution_count": 185,
   "metadata": {},
   "outputs": [],
   "source": [
    "df['title_year'].fillna(df['title_year'].mean(), inplace=True)"
   ]
  },
  {
   "cell_type": "code",
   "execution_count": 186,
   "metadata": {},
   "outputs": [
    {
     "data": {
      "text/plain": [
       "color                          0\n",
       "director_name                103\n",
       "num_critic_for_reviews         0\n",
       "duration                       0\n",
       "director_facebook_likes        0\n",
       "actor_3_facebook_likes         0\n",
       "actor_2_name                  13\n",
       "actor_1_facebook_likes         0\n",
       "gross                          0\n",
       "genres                         0\n",
       "actor_1_name                   7\n",
       "movie_title                    0\n",
       "num_voted_users                0\n",
       "cast_total_facebook_likes      0\n",
       "actor_3_name                  23\n",
       "facenumber_in_poster           0\n",
       "plot_keywords                152\n",
       "movie_imdb_link                0\n",
       "num_user_for_reviews           0\n",
       "language                       0\n",
       "country                        0\n",
       "content_rating                 0\n",
       "budget                         0\n",
       "title_year                     0\n",
       "actor_2_facebook_likes         0\n",
       "imdb_score                     0\n",
       "aspect_ratio                   0\n",
       "movie_facebook_likes           0\n",
       "dtype: int64"
      ]
     },
     "execution_count": 186,
     "metadata": {},
     "output_type": "execute_result"
    }
   ],
   "source": [
    "df.isnull().sum()"
   ]
  },
  {
   "cell_type": "code",
   "execution_count": 187,
   "metadata": {},
   "outputs": [],
   "source": [
    "df.dropna(inplace=True)"
   ]
  },
  {
   "cell_type": "code",
   "execution_count": 188,
   "metadata": {},
   "outputs": [
    {
     "data": {
      "text/plain": [
       "color                        0\n",
       "director_name                0\n",
       "num_critic_for_reviews       0\n",
       "duration                     0\n",
       "director_facebook_likes      0\n",
       "actor_3_facebook_likes       0\n",
       "actor_2_name                 0\n",
       "actor_1_facebook_likes       0\n",
       "gross                        0\n",
       "genres                       0\n",
       "actor_1_name                 0\n",
       "movie_title                  0\n",
       "num_voted_users              0\n",
       "cast_total_facebook_likes    0\n",
       "actor_3_name                 0\n",
       "facenumber_in_poster         0\n",
       "plot_keywords                0\n",
       "movie_imdb_link              0\n",
       "num_user_for_reviews         0\n",
       "language                     0\n",
       "country                      0\n",
       "content_rating               0\n",
       "budget                       0\n",
       "title_year                   0\n",
       "actor_2_facebook_likes       0\n",
       "imdb_score                   0\n",
       "aspect_ratio                 0\n",
       "movie_facebook_likes         0\n",
       "dtype: int64"
      ]
     },
     "execution_count": 188,
     "metadata": {},
     "output_type": "execute_result"
    }
   ],
   "source": [
    "df.isnull().sum()"
   ]
  },
  {
   "cell_type": "markdown",
   "metadata": {},
   "source": [
    "#### To handle the null values, I replaced as many as I could with a zero or the mean value of the set, however since some of the attributes were based on names I just dropped them from the data set."
   ]
  },
  {
   "cell_type": "markdown",
   "metadata": {},
   "source": [
    "### Add a new column for profit of the movie"
   ]
  },
  {
   "cell_type": "code",
   "execution_count": 189,
   "metadata": {},
   "outputs": [],
   "source": [
    "df['profit'] = df['gross'] - df['budget']"
   ]
  },
  {
   "cell_type": "markdown",
   "metadata": {},
   "source": [
    "## 4. Analysis"
   ]
  },
  {
   "cell_type": "markdown",
   "metadata": {},
   "source": [
    "#### Need to split up the genres. Since many movies crossover between multiple genres we will have to make sure they are only in one category. "
   ]
  },
  {
   "cell_type": "code",
   "execution_count": 190,
   "metadata": {},
   "outputs": [],
   "source": [
    "df['genres']= df['genres'].str.replace('|', ' ')"
   ]
  },
  {
   "cell_type": "code",
   "execution_count": 191,
   "metadata": {},
   "outputs": [
    {
     "data": {
      "text/plain": [
       "0    [Action, Adventure, Fantasy, Sci-Fi]\n",
       "1            [Action, Adventure, Fantasy]\n",
       "2           [Action, Adventure, Thriller]\n",
       "3                      [Action, Thriller]\n",
       "5             [Action, Adventure, Sci-Fi]\n",
       "Name: genres, dtype: object"
      ]
     },
     "execution_count": 191,
     "metadata": {},
     "output_type": "execute_result"
    }
   ],
   "source": [
    "df['genres'] = df['genres'].str.split()\n",
    "df.genres.head()"
   ]
  },
  {
   "cell_type": "code",
   "execution_count": 192,
   "metadata": {},
   "outputs": [],
   "source": [
    "df['genres']=df['genres'].apply(lambda x: x[0])"
   ]
  },
  {
   "cell_type": "code",
   "execution_count": 193,
   "metadata": {},
   "outputs": [
    {
     "data": {
      "text/plain": [
       "0    Action\n",
       "1    Action\n",
       "2    Action\n",
       "3    Action\n",
       "5    Action\n",
       "Name: genres, dtype: object"
      ]
     },
     "execution_count": 193,
     "metadata": {},
     "output_type": "execute_result"
    }
   ],
   "source": [
    "df['genres'].head()"
   ]
  },
  {
   "cell_type": "code",
   "execution_count": 194,
   "metadata": {},
   "outputs": [
    {
     "data": {
      "text/plain": [
       "Comedy         1262\n",
       "Action         1107\n",
       "Drama           895\n",
       "Adventure       437\n",
       "Crime           323\n",
       "Biography       247\n",
       "Horror          220\n",
       "Documentary      59\n",
       "Animation        55\n",
       "Fantasy          50\n",
       "Mystery          31\n",
       "Thriller         17\n",
       "Sci-Fi           12\n",
       "Western          10\n",
       "Family            5\n",
       "Musical           4\n",
       "Romance           2\n",
       "Film-Noir         1\n",
       "Music             1\n",
       "Name: genres, dtype: int64"
      ]
     },
     "execution_count": 194,
     "metadata": {},
     "output_type": "execute_result"
    }
   ],
   "source": [
    "df['genres'].value_counts()"
   ]
  },
  {
   "cell_type": "markdown",
   "metadata": {},
   "source": [
    "### Compare Genre to Average IMDB Score"
   ]
  },
  {
   "cell_type": "code",
   "execution_count": 195,
   "metadata": {},
   "outputs": [
    {
     "data": {
      "text/plain": [
       "Text(0.5, 1.0, 'Average Score By Genre')"
      ]
     },
     "execution_count": 195,
     "metadata": {},
     "output_type": "execute_result"
    },
    {
     "data": {
      "image/png": "[encoded data removed]",
      "text/plain": [
       "<Figure size 576x360 with 1 Axes>"
      ]
     },
     "metadata": {
      "needs_background": "light"
     },
     "output_type": "display_data"
    }
   ],
   "source": [
    "plt.figure(figsize=[8,5])\n",
    "df.groupby('genres')['imdb_score'].mean().plot(kind='bar')\n",
    "plt.xlabel('Genre')\n",
    "plt.ylabel('IMDB Score')\n",
    "plt.title(\"Average Score By Genre\")"
   ]
  },
  {
   "cell_type": "markdown",
   "metadata": {},
   "source": [
    "### Compare Country to Average IMDB Score"
   ]
  },
  {
   "cell_type": "code",
   "execution_count": 196,
   "metadata": {},
   "outputs": [
    {
     "data": {
      "text/plain": [
       "Text(0.5, 1.0, 'Average Score By Country')"
      ]
     },
     "execution_count": 196,
     "metadata": {},
     "output_type": "execute_result"
    },
    {
     "data": {
      "image/png": "[encoded data removed]",
      "text/plain": [
       "<Figure size 1080x360 with 1 Axes>"
      ]
     },
     "metadata": {
      "needs_background": "light"
     },
     "output_type": "display_data"
    }
   ],
   "source": [
    "plt.figure(figsize=[15,5])\n",
    "df.groupby('country')['imdb_score'].mean().plot(kind='bar', rot=60)\n",
    "plt.xlabel('Country')\n",
    "plt.ylabel('IMDB Score')\n",
    "plt.title(\"Average Score By Country\")\n"
   ]
  },
  {
   "cell_type": "markdown",
   "metadata": {},
   "source": [
    "### Duration and IMBD Score"
   ]
  },
  {
   "cell_type": "code",
   "execution_count": 197,
   "metadata": {},
   "outputs": [
    {
     "data": {
      "text/plain": [
       "Text(0.5, 1.0, 'Duration of Movie vs. IMDB Score')"
      ]
     },
     "execution_count": 197,
     "metadata": {},
     "output_type": "execute_result"
    },
    {
     "data": {
      "image/png": "[encoded data removed]",
      "text/plain": [
       "<Figure size 432x288 with 1 Axes>"
      ]
     },
     "metadata": {
      "needs_background": "light"
     },
     "output_type": "display_data"
    }
   ],
   "source": [
    "sns.regplot(x='duration', y='imdb_score', data=df)\n",
    "plt.xlabel('Duration')\n",
    "plt.ylabel('IMDB Score')\n",
    "plt.title(\"Duration of Movie vs. IMDB Score\")"
   ]
  },
  {
   "cell_type": "markdown",
   "metadata": {},
   "source": [
    "#### It would seem there is a positive correlation between the duration of a movie and the IMDB score."
   ]
  },
  {
   "cell_type": "markdown",
   "metadata": {},
   "source": [
    "### Relationship between number of users who voted and the IMDB score"
   ]
  },
  {
   "cell_type": "code",
   "execution_count": 198,
   "metadata": {},
   "outputs": [
    {
     "data": {
      "text/plain": [
       "Text(0.5, 1.0, 'Number of Users Who Voted vs. IMDB Score')"
      ]
     },
     "execution_count": 198,
     "metadata": {},
     "output_type": "execute_result"
    },
    {
     "data": {
      "image/png": "[encoded data removed]",
      "text/plain": [
       "<Figure size 432x288 with 1 Axes>"
      ]
     },
     "metadata": {
      "needs_background": "light"
     },
     "output_type": "display_data"
    }
   ],
   "source": [
    "sns.regplot(x='num_voted_users', y='imdb_score', data=df)\n",
    "plt.xlabel('Number of Users Who Vote')\n",
    "plt.ylabel('IMDB Score')\n",
    "plt.title(\"Number of Users Who Voted vs. IMDB Score\")"
   ]
  },
  {
   "cell_type": "markdown",
   "metadata": {},
   "source": [
    "#### There is a positive correltation between the number of votes and the IMDB score. Even though there appears to be a positive sloped line there is not a very strong correlation between number of votes and IMDB score. If a movie gets only a few votes it appears to generally have a lower score, but if they get way more votes than other movies it does not seem to tremendously increase the score."
   ]
  },
  {
   "cell_type": "markdown",
   "metadata": {},
   "source": [
    "### Number of director facebook likes and the IMDB score"
   ]
  },
  {
   "cell_type": "code",
   "execution_count": 199,
   "metadata": {},
   "outputs": [
    {
     "data": {
      "text/plain": [
       "Text(0.5, 1.0, 'Average Score and Director Facebook Likes')"
      ]
     },
     "execution_count": 199,
     "metadata": {},
     "output_type": "execute_result"
    },
    {
     "data": {
      "image/png": "[encoded data removed]",
      "text/plain": [
       "<Figure size 1080x360 with 1 Axes>"
      ]
     },
     "metadata": {
      "needs_background": "light"
     },
     "output_type": "display_data"
    }
   ],
   "source": [
    "plt.figure(figsize=[15,5])\n",
    "df.groupby('imdb_score')['director_facebook_likes'].mean().plot(kind='bar')\n",
    "plt.xlabel('IMDB Score')\n",
    "plt.ylabel('Director Facebook Likes')\n",
    "plt.title(\"Average Score and Director Facebook Likes\")"
   ]
  },
  {
   "cell_type": "markdown",
   "metadata": {},
   "source": [
    "#### Very apparent that the higher IMDB scored movie directors get more facebook likes"
   ]
  },
  {
   "cell_type": "markdown",
   "metadata": {},
   "source": [
    "#### Look into the movie facebook likes and the score"
   ]
  },
  {
   "cell_type": "code",
   "execution_count": 200,
   "metadata": {},
   "outputs": [
    {
     "data": {
      "text/plain": [
       "<seaborn.axisgrid.FacetGrid at 0x1c2e5c6250>"
      ]
     },
     "execution_count": 200,
     "metadata": {},
     "output_type": "execute_result"
    },
    {
     "data": {
      "image/png": "[encoded data removed]",
      "text/plain": [
       "<Figure size 360x360 with 1 Axes>"
      ]
     },
     "metadata": {
      "needs_background": "light"
     },
     "output_type": "display_data"
    }
   ],
   "source": [
    "sns.lmplot('movie_facebook_likes', 'imdb_score', df)"
   ]
  },
  {
   "cell_type": "markdown",
   "metadata": {},
   "source": [
    "#### In general, the movies that get more likes on facebook have better IMDB scores"
   ]
  },
  {
   "cell_type": "code",
   "execution_count": 201,
   "metadata": {},
   "outputs": [
    {
     "data": {
      "text/plain": [
       "Text(0.5, 1.0, 'Budget vs. IMDB Score')"
      ]
     },
     "execution_count": 201,
     "metadata": {},
     "output_type": "execute_result"
    },
    {
     "data": {
      "image/png": "[encoded data removed]",
      "text/plain": [
       "<Figure size 432x288 with 1 Axes>"
      ]
     },
     "metadata": {
      "needs_background": "light"
     },
     "output_type": "display_data"
    }
   ],
   "source": [
    "sns.regplot(x='budget', y='imdb_score', data=df)\n",
    "plt.xlabel('Budget')\n",
    "plt.ylabel('IMDB Score')\n",
    "plt.title(\"Budget vs. IMDB Score\")"
   ]
  },
  {
   "cell_type": "markdown",
   "metadata": {},
   "source": [
    "#### Not a huge correlation between the Budget and the IMDB score"
   ]
  },
  {
   "cell_type": "markdown",
   "metadata": {},
   "source": [
    "### Relationship between Gross revenue and IMDB Score"
   ]
  },
  {
   "cell_type": "code",
   "execution_count": 202,
   "metadata": {},
   "outputs": [
    {
     "data": {
      "text/plain": [
       "Text(0.5, 1.0, 'Gross Revenue vs. IMDB Score')"
      ]
     },
     "execution_count": 202,
     "metadata": {},
     "output_type": "execute_result"
    },
    {
     "data": {
      "image/png": "[encoded data removed]",
      "text/plain": [
       "<Figure size 432x288 with 1 Axes>"
      ]
     },
     "metadata": {
      "needs_background": "light"
     },
     "output_type": "display_data"
    }
   ],
   "source": [
    "sns.regplot(x='gross', y='imdb_score', data=df)\n",
    "plt.xlabel('Gross Revenue')\n",
    "plt.ylabel('IMDB Score')\n",
    "plt.title(\"Gross Revenue vs. IMDB Score\")"
   ]
  },
  {
   "cell_type": "markdown",
   "metadata": {},
   "source": [
    "#### Typically the higher grossing movies receive a higher IMDB score."
   ]
  },
  {
   "cell_type": "code",
   "execution_count": 203,
   "metadata": {},
   "outputs": [
    {
     "data": {
      "text/plain": [
       "Text(0.5, 1.0, 'IMDB Score by Content Rating')"
      ]
     },
     "execution_count": 203,
     "metadata": {},
     "output_type": "execute_result"
    },
    {
     "data": {
      "image/png": "[encoded data removed]",
      "text/plain": [
       "<Figure size 1080x360 with 1 Axes>"
      ]
     },
     "metadata": {
      "needs_background": "light"
     },
     "output_type": "display_data"
    }
   ],
   "source": [
    "plt.figure(figsize=[15,5])\n",
    "df.groupby('content_rating')['imdb_score'].mean().plot(kind='bar')\n",
    "plt.xlabel('Content Rating')\n",
    "plt.ylabel('IMDB Score')\n",
    "plt.title(\"IMDB Score by Content Rating\")"
   ]
  },
  {
   "cell_type": "markdown",
   "metadata": {},
   "source": [
    "#### Not a huge disparity between the average IMDB score and the content rating of the movie"
   ]
  },
  {
   "cell_type": "markdown",
   "metadata": {},
   "source": [
    "### Look into the top directors"
   ]
  },
  {
   "cell_type": "code",
   "execution_count": 204,
   "metadata": {},
   "outputs": [
    {
     "data": {
      "text/plain": [
       "director_name\n",
       "Sadyk Sher-Niyaz           8.700\n",
       "Charles Chaplin            8.600\n",
       "Damien Chazelle            8.500\n",
       "Raja Menon                 8.500\n",
       "Ron Fricke                 8.500\n",
       "Majid Majidi               8.500\n",
       "Sergio Leone               8.475\n",
       "Christopher Nolan          8.425\n",
       "Catherine Owens            8.400\n",
       "Rakeysh Omprakash Mehra    8.400\n",
       "Moustapha Akkad            8.400\n",
       "Bill Melendez              8.400\n",
       "Name: imdb_score, dtype: float64"
      ]
     },
     "execution_count": 204,
     "metadata": {},
     "output_type": "execute_result"
    }
   ],
   "source": [
    "top_dawgs = df.groupby('director_name')['imdb_score'].mean().sort_values(ascending=False).head(12)\n",
    "top_dawgs"
   ]
  },
  {
   "cell_type": "code",
   "execution_count": 205,
   "metadata": {},
   "outputs": [
    {
     "data": {
      "text/plain": [
       "Text(0.5, 1.0, 'Average Score By Director')"
      ]
     },
     "execution_count": 205,
     "metadata": {},
     "output_type": "execute_result"
    },
    {
     "data": {
      "image/png": "[encoded data removed]",
      "text/plain": [
       "<Figure size 576x360 with 1 Axes>"
      ]
     },
     "metadata": {
      "needs_background": "light"
     },
     "output_type": "display_data"
    }
   ],
   "source": [
    "plt.figure(figsize=[8,5])\n",
    "top_dawgs.plot(kind='bar')\n",
    "plt.xlabel('Director Name')\n",
    "plt.ylabel('Average IMDB Score')\n",
    "plt.title(\"Average Score By Director\")"
   ]
  },
  {
   "cell_type": "markdown",
   "metadata": {},
   "source": [
    "### Look Into Top Movies in terms of IMDB Score and Profit"
   ]
  },
  {
   "cell_type": "code",
   "execution_count": 206,
   "metadata": {},
   "outputs": [
    {
     "data": {
      "text/plain": [
       "movie_title\n",
       "The Shawshank Redemption¶ÿ                             9.3\n",
       "The Godfather¶ÿ                                        9.2\n",
       "The Godfather: Part II¶ÿ                               9.0\n",
       "The Dark Knight¶ÿ                                      9.0\n",
       "Schindler's List¶ÿ                                     8.9\n",
       "The Good, the Bad and the Ugly¶ÿ                       8.9\n",
       "The Lord of the Rings: The Return of the King¶ÿ        8.9\n",
       "Pulp Fiction¶ÿ                                         8.9\n",
       "12 Angry Men¶ÿ                                         8.9\n",
       "Inception¶ÿ                                            8.8\n",
       "Fight Club¶ÿ                                           8.8\n",
       "Forrest Gump¶ÿ                                         8.8\n",
       "The Lord of the Rings: The Fellowship of the Ring¶ÿ    8.8\n",
       "Star Wars: Episode V - The Empire Strikes Back¶ÿ       8.8\n",
       "Goodfellas¶ÿ                                           8.7\n",
       "City of God¶ÿ                                          8.7\n",
       "Seven Samurai¶ÿ                                        8.7\n",
       "The Lord of the Rings: The Two Towers¶ÿ                8.7\n",
       "One Flew Over the Cuckoo's Nest¶ÿ                      8.7\n",
       "The Matrix¶ÿ                                           8.7\n",
       "Name: imdb_score, dtype: float64"
      ]
     },
     "execution_count": 206,
     "metadata": {},
     "output_type": "execute_result"
    }
   ],
   "source": [
    "top_movies_imdb = df.groupby('movie_title')['imdb_score'].mean().sort_values(ascending=False).head(20)\n",
    "top_movies_imdb"
   ]
  },
  {
   "cell_type": "code",
   "execution_count": 207,
   "metadata": {},
   "outputs": [
    {
     "data": {
      "text/plain": [
       "movie_title\n",
       "Avatar¶ÿ                                           523505847.0\n",
       "Jurassic World¶ÿ                                   502177271.0\n",
       "Titanic¶ÿ                                          458672302.0\n",
       "Star Wars: Episode IV - A New Hope¶ÿ               449935665.0\n",
       "E.T. the Extra-Terrestrial¶ÿ                       424449459.0\n",
       "The Avengers¶ÿ                                     403279547.0\n",
       "The Lion King¶ÿ                                    377783777.0\n",
       "Star Wars: Episode I - The Phantom Menace¶ÿ        359544677.0\n",
       "The Dark Knight¶ÿ                                  348316061.0\n",
       "The Hunger Games¶ÿ                                 329999255.0\n",
       "Deadpool¶ÿ                                         305024263.0\n",
       "The Hunger Games: Catching Fire¶ÿ                  294645577.0\n",
       "Jurassic Park¶ÿ                                    293784000.0\n",
       "Despicable Me 2¶ÿ                                  292049635.0\n",
       "American Sniper¶ÿ                                  291323553.0\n",
       "Finding Nemo¶ÿ                                     286838870.0\n",
       "Shrek 2¶ÿ                                          286471036.0\n",
       "The Lord of the Rings: The Return of the King¶ÿ    283019252.0\n",
       "Star Wars: Episode VI - Return of the Jedi¶ÿ       276625409.0\n",
       "Forrest Gump¶ÿ                                     274691196.0\n",
       "Name: profit, dtype: float64"
      ]
     },
     "execution_count": 207,
     "metadata": {},
     "output_type": "execute_result"
    }
   ],
   "source": [
    "top_movies_profit = df.groupby('movie_title')['profit'].mean().sort_values(ascending=False).head(20)\n",
    "top_movies_profit"
   ]
  },
  {
   "cell_type": "code",
   "execution_count": 208,
   "metadata": {},
   "outputs": [
    {
     "data": {
      "text/plain": [
       "Text(0.5, 1.0, 'Top movies Profit vs. IMDB')"
      ]
     },
     "execution_count": 208,
     "metadata": {},
     "output_type": "execute_result"
    },
    {
     "data": {
      "image/png": "[encoded data removed]",
      "text/plain": [
       "<Figure size 432x288 with 1 Axes>"
      ]
     },
     "metadata": {
      "needs_background": "light"
     },
     "output_type": "display_data"
    }
   ],
   "source": [
    "plt.scatter(top_movies_imdb, top_movies_profit)\n",
    "plt.xlabel('IMDB Score')\n",
    "plt.ylabel('Profit (in hundreds of Millions)')\n",
    "plt.title(\"Top movies Profit vs. IMDB\")"
   ]
  },
  {
   "cell_type": "code",
   "execution_count": 209,
   "metadata": {},
   "outputs": [
    {
     "data": {
      "text/plain": [
       "movie_title\n",
       "Les couloirs du temps: Les visiteurs II¶ÿ   -1.398539e+08\n",
       "Battleship¶ÿ                                -1.438268e+08\n",
       "Paa¶ÿ                                       -1.498008e+08\n",
       "The Polar Express¶ÿ                         -1.643346e+08\n",
       "The Protector¶ÿ                             -1.880945e+08\n",
       "John Carter¶ÿ                               -1.906413e+08\n",
       "Ong-bak 2¶ÿ                                 -2.998979e+08\n",
       "The Messenger: The Story of Joan of Arc¶ÿ   -3.758687e+08\n",
       "The Legend of Suriyothai¶ÿ                  -3.995457e+08\n",
       "Red Cliff¶ÿ                                 -5.530052e+08\n",
       "Kites¶ÿ                                     -5.983975e+08\n",
       "Kabhi Alvida Naa Kehna¶ÿ                    -6.967246e+08\n",
       "Tango¶ÿ                                     -6.983127e+08\n",
       "Godzilla 2000¶ÿ                             -9.899626e+08\n",
       "Akira¶ÿ                                     -1.099561e+09\n",
       "Steamboy¶ÿ                                  -2.127110e+09\n",
       "Princess Mononoke¶ÿ                         -2.397702e+09\n",
       "Fateless¶ÿ                                  -2.499804e+09\n",
       "Lady Vengeance¶ÿ                            -4.199788e+09\n",
       "The Host¶ÿ                                  -6.113341e+09\n",
       "Name: profit, dtype: float64"
      ]
     },
     "execution_count": 209,
     "metadata": {},
     "output_type": "execute_result"
    }
   ],
   "source": [
    "worst_movies_profit = df.groupby('movie_title')['profit'].mean().sort_values(ascending=False).tail(20)\n",
    "worst_movies_profit"
   ]
  },
  {
   "cell_type": "code",
   "execution_count": 210,
   "metadata": {},
   "outputs": [
    {
     "data": {
      "text/plain": [
       "movie_title\n",
       "Baby Geniuses¶ÿ                     2.5\n",
       "Sunday School Musical¶ÿ             2.5\n",
       "Gigli¶ÿ                             2.4\n",
       "Battlefield Earth¶ÿ                 2.4\n",
       "Epic Movie¶ÿ                        2.3\n",
       "Chairman of the Board¶ÿ             2.3\n",
       "Alone in the Dark¶ÿ                 2.3\n",
       "Subconscious¶ÿ                      2.2\n",
       "Son of the Mask¶ÿ                   2.2\n",
       "Snow White: A Deadly Summer¶ÿ       2.2\n",
       "Crossover¶ÿ                         2.1\n",
       "From Justin to Kelly¶ÿ              2.1\n",
       "Glitter¶ÿ                           2.1\n",
       "Who's Your Caddy?¶ÿ                 2.0\n",
       "United Passions¶ÿ                   2.0\n",
       "Disaster Movie¶ÿ                    1.9\n",
       "Superbabies: Baby Geniuses 2¶ÿ      1.9\n",
       "The Helix... Loaded¶ÿ               1.9\n",
       "Foodfight!¶ÿ                        1.7\n",
       "Justin Bieber: Never Say Never¶ÿ    1.6\n",
       "Name: imdb_score, dtype: float64"
      ]
     },
     "execution_count": 210,
     "metadata": {},
     "output_type": "execute_result"
    }
   ],
   "source": [
    "worst_movies_imdb = df.groupby('movie_title')['imdb_score'].mean().sort_values(ascending=False).tail(20)\n",
    "worst_movies_imdb"
   ]
  },
  {
   "cell_type": "markdown",
   "metadata": {},
   "source": [
    "## 5. Correlation Analysis"
   ]
  },
  {
   "cell_type": "code",
   "execution_count": 211,
   "metadata": {},
   "outputs": [
    {
     "data": {
      "text/html": [
       "<div>\n",
       "<style scoped>\n",
       "    .dataframe tbody tr th:only-of-type {\n",
       "        vertical-align: middle;\n",
       "    }\n",
       "\n",
       "    .dataframe tbody tr th {\n",
       "        vertical-align: top;\n",
       "    }\n",
       "\n",
       "    .dataframe thead th {\n",
       "        text-align: right;\n",
       "    }\n",
       "</style>\n",
       "<table border=\"1\" class=\"dataframe\">\n",
       "  <thead>\n",
       "    <tr style=\"text-align: right;\">\n",
       "      <th></th>\n",
       "      <th>color</th>\n",
       "      <th>num_critic_for_reviews</th>\n",
       "      <th>duration</th>\n",
       "      <th>director_facebook_likes</th>\n",
       "      <th>actor_3_facebook_likes</th>\n",
       "      <th>actor_1_facebook_likes</th>\n",
       "      <th>gross</th>\n",
       "      <th>num_voted_users</th>\n",
       "      <th>cast_total_facebook_likes</th>\n",
       "      <th>budget</th>\n",
       "      <th>title_year</th>\n",
       "      <th>actor_2_facebook_likes</th>\n",
       "      <th>imdb_score</th>\n",
       "      <th>movie_facebook_likes</th>\n",
       "      <th>profit</th>\n",
       "    </tr>\n",
       "  </thead>\n",
       "  <tbody>\n",
       "    <tr>\n",
       "      <td>color</td>\n",
       "      <td>1.000000</td>\n",
       "      <td>0.025597</td>\n",
       "      <td>-0.053524</td>\n",
       "      <td>-0.042418</td>\n",
       "      <td>0.032408</td>\n",
       "      <td>0.038640</td>\n",
       "      <td>0.036663</td>\n",
       "      <td>-0.016170</td>\n",
       "      <td>0.045725</td>\n",
       "      <td>0.020647</td>\n",
       "      <td>0.312081</td>\n",
       "      <td>0.034274</td>\n",
       "      <td>-0.150805</td>\n",
       "      <td>0.031755</td>\n",
       "      <td>-0.009006</td>\n",
       "    </tr>\n",
       "    <tr>\n",
       "      <td>num_critic_for_reviews</td>\n",
       "      <td>0.025597</td>\n",
       "      <td>1.000000</td>\n",
       "      <td>0.244006</td>\n",
       "      <td>0.180228</td>\n",
       "      <td>0.261401</td>\n",
       "      <td>0.188282</td>\n",
       "      <td>0.445006</td>\n",
       "      <td>0.618904</td>\n",
       "      <td>0.257767</td>\n",
       "      <td>0.114061</td>\n",
       "      <td>0.307578</td>\n",
       "      <td>0.273148</td>\n",
       "      <td>0.333374</td>\n",
       "      <td>0.689275</td>\n",
       "      <td>0.024858</td>\n",
       "    </tr>\n",
       "    <tr>\n",
       "      <td>duration</td>\n",
       "      <td>-0.053524</td>\n",
       "      <td>0.244006</td>\n",
       "      <td>1.000000</td>\n",
       "      <td>0.173724</td>\n",
       "      <td>0.125635</td>\n",
       "      <td>0.083464</td>\n",
       "      <td>0.229770</td>\n",
       "      <td>0.338038</td>\n",
       "      <td>0.118819</td>\n",
       "      <td>0.069735</td>\n",
       "      <td>-0.129341</td>\n",
       "      <td>0.131511</td>\n",
       "      <td>0.350074</td>\n",
       "      <td>0.213186</td>\n",
       "      <td>0.002181</td>\n",
       "    </tr>\n",
       "    <tr>\n",
       "      <td>director_facebook_likes</td>\n",
       "      <td>-0.042418</td>\n",
       "      <td>0.180228</td>\n",
       "      <td>0.173724</td>\n",
       "      <td>1.000000</td>\n",
       "      <td>0.122290</td>\n",
       "      <td>0.093403</td>\n",
       "      <td>0.140065</td>\n",
       "      <td>0.299847</td>\n",
       "      <td>0.122035</td>\n",
       "      <td>0.020296</td>\n",
       "      <td>-0.062446</td>\n",
       "      <td>0.120049</td>\n",
       "      <td>0.177856</td>\n",
       "      <td>0.161896</td>\n",
       "      <td>0.023158</td>\n",
       "    </tr>\n",
       "    <tr>\n",
       "      <td>actor_3_facebook_likes</td>\n",
       "      <td>0.032408</td>\n",
       "      <td>0.261401</td>\n",
       "      <td>0.125635</td>\n",
       "      <td>0.122290</td>\n",
       "      <td>1.000000</td>\n",
       "      <td>0.255047</td>\n",
       "      <td>0.285919</td>\n",
       "      <td>0.273992</td>\n",
       "      <td>0.477768</td>\n",
       "      <td>0.044364</td>\n",
       "      <td>0.103133</td>\n",
       "      <td>0.554639</td>\n",
       "      <td>0.054999</td>\n",
       "      <td>0.266266</td>\n",
       "      <td>0.044391</td>\n",
       "    </tr>\n",
       "    <tr>\n",
       "      <td>actor_1_facebook_likes</td>\n",
       "      <td>0.038640</td>\n",
       "      <td>0.188282</td>\n",
       "      <td>0.083464</td>\n",
       "      <td>0.093403</td>\n",
       "      <td>0.255047</td>\n",
       "      <td>1.000000</td>\n",
       "      <td>0.141684</td>\n",
       "      <td>0.191773</td>\n",
       "      <td>0.951075</td>\n",
       "      <td>0.021481</td>\n",
       "      <td>0.095128</td>\n",
       "      <td>0.399205</td>\n",
       "      <td>0.077098</td>\n",
       "      <td>0.135234</td>\n",
       "      <td>0.022492</td>\n",
       "    </tr>\n",
       "    <tr>\n",
       "      <td>gross</td>\n",
       "      <td>0.036663</td>\n",
       "      <td>0.445006</td>\n",
       "      <td>0.229770</td>\n",
       "      <td>0.140065</td>\n",
       "      <td>0.285919</td>\n",
       "      <td>0.141684</td>\n",
       "      <td>1.000000</td>\n",
       "      <td>0.615726</td>\n",
       "      <td>0.224817</td>\n",
       "      <td>0.099735</td>\n",
       "      <td>0.027037</td>\n",
       "      <td>0.248506</td>\n",
       "      <td>0.175959</td>\n",
       "      <td>0.362474</td>\n",
       "      <td>0.209724</td>\n",
       "    </tr>\n",
       "    <tr>\n",
       "      <td>num_voted_users</td>\n",
       "      <td>-0.016170</td>\n",
       "      <td>0.618904</td>\n",
       "      <td>0.338038</td>\n",
       "      <td>0.299847</td>\n",
       "      <td>0.273992</td>\n",
       "      <td>0.191773</td>\n",
       "      <td>0.615726</td>\n",
       "      <td>1.000000</td>\n",
       "      <td>0.259825</td>\n",
       "      <td>0.076026</td>\n",
       "      <td>0.022203</td>\n",
       "      <td>0.259445</td>\n",
       "      <td>0.434269</td>\n",
       "      <td>0.532448</td>\n",
       "      <td>0.114770</td>\n",
       "    </tr>\n",
       "    <tr>\n",
       "      <td>cast_total_facebook_likes</td>\n",
       "      <td>0.045725</td>\n",
       "      <td>0.257767</td>\n",
       "      <td>0.118819</td>\n",
       "      <td>0.122035</td>\n",
       "      <td>0.477768</td>\n",
       "      <td>0.951075</td>\n",
       "      <td>0.224817</td>\n",
       "      <td>0.259825</td>\n",
       "      <td>1.000000</td>\n",
       "      <td>0.034281</td>\n",
       "      <td>0.120740</td>\n",
       "      <td>0.637311</td>\n",
       "      <td>0.088019</td>\n",
       "      <td>0.205282</td>\n",
       "      <td>0.035496</td>\n",
       "    </tr>\n",
       "    <tr>\n",
       "      <td>budget</td>\n",
       "      <td>0.020647</td>\n",
       "      <td>0.114061</td>\n",
       "      <td>0.069735</td>\n",
       "      <td>0.020296</td>\n",
       "      <td>0.044364</td>\n",
       "      <td>0.021481</td>\n",
       "      <td>0.099735</td>\n",
       "      <td>0.076026</td>\n",
       "      <td>0.034281</td>\n",
       "      <td>1.000000</td>\n",
       "      <td>0.046899</td>\n",
       "      <td>0.041467</td>\n",
       "      <td>0.029054</td>\n",
       "      <td>0.058542</td>\n",
       "      <td>-0.951968</td>\n",
       "    </tr>\n",
       "    <tr>\n",
       "      <td>title_year</td>\n",
       "      <td>0.312081</td>\n",
       "      <td>0.307578</td>\n",
       "      <td>-0.129341</td>\n",
       "      <td>-0.062446</td>\n",
       "      <td>0.103133</td>\n",
       "      <td>0.095128</td>\n",
       "      <td>0.027037</td>\n",
       "      <td>0.022203</td>\n",
       "      <td>0.120740</td>\n",
       "      <td>0.046899</td>\n",
       "      <td>1.000000</td>\n",
       "      <td>0.111301</td>\n",
       "      <td>-0.205103</td>\n",
       "      <td>0.229378</td>\n",
       "      <td>-0.037766</td>\n",
       "    </tr>\n",
       "    <tr>\n",
       "      <td>actor_2_facebook_likes</td>\n",
       "      <td>0.034274</td>\n",
       "      <td>0.273148</td>\n",
       "      <td>0.131511</td>\n",
       "      <td>0.120049</td>\n",
       "      <td>0.554639</td>\n",
       "      <td>0.399205</td>\n",
       "      <td>0.248506</td>\n",
       "      <td>0.259445</td>\n",
       "      <td>0.637311</td>\n",
       "      <td>0.041467</td>\n",
       "      <td>0.111301</td>\n",
       "      <td>1.000000</td>\n",
       "      <td>0.089289</td>\n",
       "      <td>0.235071</td>\n",
       "      <td>0.035724</td>\n",
       "    </tr>\n",
       "    <tr>\n",
       "      <td>imdb_score</td>\n",
       "      <td>-0.150805</td>\n",
       "      <td>0.333374</td>\n",
       "      <td>0.350074</td>\n",
       "      <td>0.177856</td>\n",
       "      <td>0.054999</td>\n",
       "      <td>0.077098</td>\n",
       "      <td>0.175959</td>\n",
       "      <td>0.434269</td>\n",
       "      <td>0.088019</td>\n",
       "      <td>0.029054</td>\n",
       "      <td>-0.205103</td>\n",
       "      <td>0.089289</td>\n",
       "      <td>1.000000</td>\n",
       "      <td>0.258531</td>\n",
       "      <td>0.025598</td>\n",
       "    </tr>\n",
       "    <tr>\n",
       "      <td>movie_facebook_likes</td>\n",
       "      <td>0.031755</td>\n",
       "      <td>0.689275</td>\n",
       "      <td>0.213186</td>\n",
       "      <td>0.161896</td>\n",
       "      <td>0.266266</td>\n",
       "      <td>0.135234</td>\n",
       "      <td>0.362474</td>\n",
       "      <td>0.532448</td>\n",
       "      <td>0.205282</td>\n",
       "      <td>0.058542</td>\n",
       "      <td>0.229378</td>\n",
       "      <td>0.235071</td>\n",
       "      <td>0.258531</td>\n",
       "      <td>1.000000</td>\n",
       "      <td>0.054017</td>\n",
       "    </tr>\n",
       "    <tr>\n",
       "      <td>profit</td>\n",
       "      <td>-0.009006</td>\n",
       "      <td>0.024858</td>\n",
       "      <td>0.002181</td>\n",
       "      <td>0.023158</td>\n",
       "      <td>0.044391</td>\n",
       "      <td>0.022492</td>\n",
       "      <td>0.209724</td>\n",
       "      <td>0.114770</td>\n",
       "      <td>0.035496</td>\n",
       "      <td>-0.951968</td>\n",
       "      <td>-0.037766</td>\n",
       "      <td>0.035724</td>\n",
       "      <td>0.025598</td>\n",
       "      <td>0.054017</td>\n",
       "      <td>1.000000</td>\n",
       "    </tr>\n",
       "  </tbody>\n",
       "</table>\n",
       "</div>"
      ],
      "text/plain": [
       "                              color  num_critic_for_reviews  duration  \\\n",
       "color                      1.000000                0.025597 -0.053524   \n",
       "num_critic_for_reviews     0.025597                1.000000  0.244006   \n",
       "duration                  -0.053524                0.244006  1.000000   \n",
       "director_facebook_likes   -0.042418                0.180228  0.173724   \n",
       "actor_3_facebook_likes     0.032408                0.261401  0.125635   \n",
       "actor_1_facebook_likes     0.038640                0.188282  0.083464   \n",
       "gross                      0.036663                0.445006  0.229770   \n",
       "num_voted_users           -0.016170                0.618904  0.338038   \n",
       "cast_total_facebook_likes  0.045725                0.257767  0.118819   \n",
       "budget                     0.020647                0.114061  0.069735   \n",
       "title_year                 0.312081                0.307578 -0.129341   \n",
       "actor_2_facebook_likes     0.034274                0.273148  0.131511   \n",
       "imdb_score                -0.150805                0.333374  0.350074   \n",
       "movie_facebook_likes       0.031755                0.689275  0.213186   \n",
       "profit                    -0.009006                0.024858  0.002181   \n",
       "\n",
       "                           director_facebook_likes  actor_3_facebook_likes  \\\n",
       "color                                    -0.042418                0.032408   \n",
       "num_critic_for_reviews                    0.180228                0.261401   \n",
       "duration                                  0.173724                0.125635   \n",
       "director_facebook_likes                   1.000000                0.122290   \n",
       "actor_3_facebook_likes                    0.122290                1.000000   \n",
       "actor_1_facebook_likes                    0.093403                0.255047   \n",
       "gross                                     0.140065                0.285919   \n",
       "num_voted_users                           0.299847                0.273992   \n",
       "cast_total_facebook_likes                 0.122035                0.477768   \n",
       "budget                                    0.020296                0.044364   \n",
       "title_year                               -0.062446                0.103133   \n",
       "actor_2_facebook_likes                    0.120049                0.554639   \n",
       "imdb_score                                0.177856                0.054999   \n",
       "movie_facebook_likes                      0.161896                0.266266   \n",
       "profit                                    0.023158                0.044391   \n",
       "\n",
       "                           actor_1_facebook_likes     gross  num_voted_users  \\\n",
       "color                                    0.038640  0.036663        -0.016170   \n",
       "num_critic_for_reviews                   0.188282  0.445006         0.618904   \n",
       "duration                                 0.083464  0.229770         0.338038   \n",
       "director_facebook_likes                  0.093403  0.140065         0.299847   \n",
       "actor_3_facebook_likes                   0.255047  0.285919         0.273992   \n",
       "actor_1_facebook_likes                   1.000000  0.141684         0.191773   \n",
       "gross                                    0.141684  1.000000         0.615726   \n",
       "num_voted_users                          0.191773  0.615726         1.000000   \n",
       "cast_total_facebook_likes                0.951075  0.224817         0.259825   \n",
       "budget                                   0.021481  0.099735         0.076026   \n",
       "title_year                               0.095128  0.027037         0.022203   \n",
       "actor_2_facebook_likes                   0.399205  0.248506         0.259445   \n",
       "imdb_score                               0.077098  0.175959         0.434269   \n",
       "movie_facebook_likes                     0.135234  0.362474         0.532448   \n",
       "profit                                   0.022492  0.209724         0.114770   \n",
       "\n",
       "                           cast_total_facebook_likes    budget  title_year  \\\n",
       "color                                       0.045725  0.020647    0.312081   \n",
       "num_critic_for_reviews                      0.257767  0.114061    0.307578   \n",
       "duration                                    0.118819  0.069735   -0.129341   \n",
       "director_facebook_likes                     0.122035  0.020296   -0.062446   \n",
       "actor_3_facebook_likes                      0.477768  0.044364    0.103133   \n",
       "actor_1_facebook_likes                      0.951075  0.021481    0.095128   \n",
       "gross                                       0.224817  0.099735    0.027037   \n",
       "num_voted_users                             0.259825  0.076026    0.022203   \n",
       "cast_total_facebook_likes                   1.000000  0.034281    0.120740   \n",
       "budget                                      0.034281  1.000000    0.046899   \n",
       "title_year                                  0.120740  0.046899    1.000000   \n",
       "actor_2_facebook_likes                      0.637311  0.041467    0.111301   \n",
       "imdb_score                                  0.088019  0.029054   -0.205103   \n",
       "movie_facebook_likes                        0.205282  0.058542    0.229378   \n",
       "profit                                      0.035496 -0.951968   -0.037766   \n",
       "\n",
       "                           actor_2_facebook_likes  imdb_score  \\\n",
       "color                                    0.034274   -0.150805   \n",
       "num_critic_for_reviews                   0.273148    0.333374   \n",
       "duration                                 0.131511    0.350074   \n",
       "director_facebook_likes                  0.120049    0.177856   \n",
       "actor_3_facebook_likes                   0.554639    0.054999   \n",
       "actor_1_facebook_likes                   0.399205    0.077098   \n",
       "gross                                    0.248506    0.175959   \n",
       "num_voted_users                          0.259445    0.434269   \n",
       "cast_total_facebook_likes                0.637311    0.088019   \n",
       "budget                                   0.041467    0.029054   \n",
       "title_year                               0.111301   -0.205103   \n",
       "actor_2_facebook_likes                   1.000000    0.089289   \n",
       "imdb_score                               0.089289    1.000000   \n",
       "movie_facebook_likes                     0.235071    0.258531   \n",
       "profit                                   0.035724    0.025598   \n",
       "\n",
       "                           movie_facebook_likes    profit  \n",
       "color                                  0.031755 -0.009006  \n",
       "num_critic_for_reviews                 0.689275  0.024858  \n",
       "duration                               0.213186  0.002181  \n",
       "director_facebook_likes                0.161896  0.023158  \n",
       "actor_3_facebook_likes                 0.266266  0.044391  \n",
       "actor_1_facebook_likes                 0.135234  0.022492  \n",
       "gross                                  0.362474  0.209724  \n",
       "num_voted_users                        0.532448  0.114770  \n",
       "cast_total_facebook_likes              0.205282  0.035496  \n",
       "budget                                 0.058542 -0.951968  \n",
       "title_year                             0.229378 -0.037766  \n",
       "actor_2_facebook_likes                 0.235071  0.035724  \n",
       "imdb_score                             0.258531  0.025598  \n",
       "movie_facebook_likes                   1.000000  0.054017  \n",
       "profit                                 0.054017  1.000000  "
      ]
     },
     "execution_count": 211,
     "metadata": {},
     "output_type": "execute_result"
    }
   ],
   "source": [
    "df.corr()"
   ]
  },
  {
   "cell_type": "code",
   "execution_count": 212,
   "metadata": {},
   "outputs": [
    {
     "data": {
      "text/plain": [
       "imdb_score                   1.000000\n",
       "num_voted_users              0.434269\n",
       "duration                     0.350074\n",
       "num_critic_for_reviews       0.333374\n",
       "movie_facebook_likes         0.258531\n",
       "director_facebook_likes      0.177856\n",
       "gross                        0.175959\n",
       "actor_2_facebook_likes       0.089289\n",
       "cast_total_facebook_likes    0.088019\n",
       "actor_1_facebook_likes       0.077098\n",
       "actor_3_facebook_likes       0.054999\n",
       "budget                       0.029054\n",
       "profit                       0.025598\n",
       "color                       -0.150805\n",
       "title_year                  -0.205103\n",
       "Name: imdb_score, dtype: float64"
      ]
     },
     "execution_count": 212,
     "metadata": {},
     "output_type": "execute_result"
    }
   ],
   "source": [
    "df.corr()['imdb_score'].sort_values(ascending=False)"
   ]
  },
  {
   "cell_type": "markdown",
   "metadata": {},
   "source": [
    "As you would expect there is a positive correlation between the number of critic reviews and the number of voted users. There is also a positive correlation between duration and IMDB score but it is not a super strong correlation. There is a very strong negative correlation between budget and profit which makes sense. "
   ]
  },
  {
   "cell_type": "markdown",
   "metadata": {},
   "source": [
    "## 6. Stortelling"
   ]
  },
  {
   "cell_type": "markdown",
   "metadata": {},
   "source": [
    "#### What factors can help predict which movies will have better IMDB scores?"
   ]
  },
  {
   "cell_type": "markdown",
   "metadata": {},
   "source": [
    "1. It is clear that from the correlation analysis, the number of critic reviews and number of voted users has a strong correlation with the IMDB score. But since this cannot be controlled let's look into the factors from the groupby analysis.\n",
    "2. Based on the top 20 movies in terms of profit and IMDB score. The most profitable movies had the highest IMDB score.\n",
    "3. Something that was very interesting to note is the relationship between the duration of the movie and the IMDB score. There is a positive correlation so in general the longer movies have better scores. However, at some point the movie is too long and does not benefit the score any longer. It looks as though the sweet spot for the duration of the movie would be between 98-125 mins.\n",
    "4. Something else that was quite interesting was that Comedy and Horror movies, in general, did not have as good of scores. Whereas Biography and Documentary movies scored much better relative to other movies.\n",
    "5. The analysis on the director statistics could have been better. Since the analysis was done using the average IMDB score for the diretor, several directors may not have made the top of the chart if they had a single movie that was not good and brought down their score. What the analysis did show however was the directors who have beenthe best consistently. The only director name I recognized was Christopher Nolan. He has directed several movies that I like and is average IMDB sore is a 8.45. So if you want a good score, Christopher Nolan would not be a bad choice.\n",
    "6. It was seen that the budget did not really have an impact on the score. My suggestion would be that pouring money into the film does not mean the IMDB score will be better.\n",
    "7. The movies rated TV-14 did not score well so I would steer clear of those ratings.\n",
    "8. Something else I did was look at the top 20 movies in terms of profit and IMDB score. It was cool to look at the top all time movies in terms of their score and how much money they made. Something to note is that they are al, for the most part, classics. The classic all-time great movies make for the best scores and the best profit."
   ]
  },
  {
   "cell_type": "markdown",
   "metadata": {
    "collapsed": true
   },
   "source": [
    "## Project Part 2"
   ]
  },
  {
   "cell_type": "code",
   "execution_count": 213,
   "metadata": {},
   "outputs": [
    {
     "name": "stdout",
     "output_type": "stream",
     "text": [
      "Requirement already satisfied: plotly in /opt/anaconda3/lib/python3.7/site-packages (4.4.1)\r\n",
      "Requirement already satisfied: retrying>=1.3.3 in /opt/anaconda3/lib/python3.7/site-packages (from plotly) (1.3.3)\r\n",
      "Requirement already satisfied: six in /opt/anaconda3/lib/python3.7/site-packages (from plotly) (1.12.0)\r\n"
     ]
    }
   ],
   "source": [
    "!pip install plotly\n"
   ]
  },
  {
   "cell_type": "code",
   "execution_count": 214,
   "metadata": {},
   "outputs": [
    {
     "name": "stdout",
     "output_type": "stream",
     "text": [
      "Requirement already satisfied: sklearn in /opt/anaconda3/lib/python3.7/site-packages (0.0)\r\n",
      "Requirement already satisfied: scikit-learn in /opt/anaconda3/lib/python3.7/site-packages (from sklearn) (0.21.3)\r\n",
      "Requirement already satisfied: joblib>=0.11 in /opt/anaconda3/lib/python3.7/site-packages (from scikit-learn->sklearn) (0.13.2)\r\n",
      "Requirement already satisfied: numpy>=1.11.0 in /opt/anaconda3/lib/python3.7/site-packages (from scikit-learn->sklearn) (1.17.2)\r\n",
      "Requirement already satisfied: scipy>=0.17.0 in /opt/anaconda3/lib/python3.7/site-packages (from scikit-learn->sklearn) (1.3.1)\r\n"
     ]
    }
   ],
   "source": [
    "!pip install sklearn\n"
   ]
  },
  {
   "cell_type": "code",
   "execution_count": 215,
   "metadata": {},
   "outputs": [],
   "source": [
    "import pandas as pd\n",
    "import numpy as np\n",
    "import seaborn as sns\n",
    "import matplotlib.pyplot as plt\n",
    "%matplotlib inline\n",
    "from scipy import stats\n",
    "\n",
    "import sklearn.linear_model as lm\n",
    "from sklearn.metrics import mean_squared_error\n",
    "from sklearn.metrics import explained_variance_score\n",
    "\n",
    "from sklearn import linear_model\n",
    "\n",
    "from sklearn.feature_selection import f_regression\n",
    "from sklearn.feature_selection import SelectKBest\n",
    "\n",
    "import statsmodels.api as sm\n",
    "from statsmodels.formula.api import ols\n",
    "import plotly.graph_objects as go\n",
    "import plotly.express as px\n",
    "\n",
    "\n",
    "from sklearn import tree\n",
    "from sklearn.tree import DecisionTreeClassifier\n",
    "from sklearn.linear_model import LogisticRegression\n",
    "import statsmodels.api as sm\n",
    "from sklearn.neighbors import KNeighborsClassifier\n",
    "\n",
    "from sklearn.ensemble import RandomForestClassifier\n",
    "\n",
    "from sklearn.model_selection import train_test_split\n",
    "from sklearn.model_selection import cross_val_score\n",
    "from sklearn import metrics\n",
    "from sklearn.metrics import roc_curve, auc\n",
    "from sklearn.metrics import roc_auc_score\n",
    "from sklearn.feature_selection import RFE\n",
    "from sklearn.ensemble import ExtraTreesClassifier\n",
    "from sklearn.feature_selection import SelectKBest\n",
    "from sklearn.feature_selection import chi2\n",
    "from sklearn.model_selection import GridSearchCV\n",
    "\n",
    "from sklearn import tree\n",
    "from sklearn.tree import DecisionTreeClassifier\n",
    "from sklearn.model_selection import train_test_split\n",
    "from sklearn import tree\n",
    "from sklearn.tree import DecisionTreeClassifier, export_graphviz\n",
    "from IPython.display import SVG\n",
    "from IPython.display import display\n",
    "from sklearn.linear_model import LogisticRegression\n",
    "import statsmodels.api as sm\n",
    "from sklearn.neighbors import KNeighborsClassifier\n",
    "from sklearn.metrics import classification_report, f1_score, accuracy_score, confusion_matrix\n",
    "from sklearn.model_selection import StratifiedKFold, cross_val_score, train_test_split, GridSearchCV \n",
    "from sklearn import metrics\n",
    "from sklearn.metrics import roc_curve, auc\n",
    "\n",
    "\n",
    "\n",
    "from pandas.plotting import scatter_matrix\n",
    "\n",
    "import pingouin as pg\n",
    "\n",
    "import warnings\n",
    "warnings.filterwarnings(\"ignore\")\n",
    "\n",
    "\n",
    "#regression packages\n",
    "import sklearn.linear_model as lm\n",
    "from sklearn.metrics import mean_squared_error\n",
    "from sklearn.metrics import explained_variance_score\n",
    "\n",
    "import statsmodels.api as sm\n",
    "from statsmodels.formula.api import ols\n",
    "\n",
    "import plotly.graph_objects as go\n",
    "import plotly.express as px\n",
    "\n",
    "from sklearn.feature_selection import f_regression\n",
    "from sklearn.feature_selection import SelectKBest\n",
    "\n",
    "from sklearn.cluster import KMeans\n",
    "\n",
    "from sklearn.cluster import AgglomerativeClustering\n",
    "from sklearn.metrics import pairwise_distances\n",
    "from sklearn.cluster import ward_tree\n",
    "from scipy.cluster.hierarchy import dendrogram, linkage, ward\n",
    "\n",
    "#f_regression (feature selection)\n",
    "from sklearn.feature_selection import f_regression\n",
    "from sklearn.feature_selection import SelectKBest\n",
    "# feature selection\n",
    "from sklearn.ensemble import ExtraTreesClassifier\n",
    "\n",
    "from sklearn.feature_selection import chi2"
   ]
  },
  {
   "cell_type": "code",
   "execution_count": 216,
   "metadata": {},
   "outputs": [
    {
     "name": "stdout",
     "output_type": "stream",
     "text": [
      "<class 'pandas.core.frame.DataFrame'>\n",
      "Int64Index: 4738 entries, 0 to 5042\n",
      "Data columns (total 29 columns):\n",
      "color                        4738 non-null int64\n",
      "director_name                4738 non-null object\n",
      "num_critic_for_reviews       4738 non-null float64\n",
      "duration                     4738 non-null float64\n",
      "director_facebook_likes      4738 non-null float64\n",
      "actor_3_facebook_likes       4738 non-null float64\n",
      "actor_2_name                 4738 non-null object\n",
      "actor_1_facebook_likes       4738 non-null float64\n",
      "gross                        4738 non-null float64\n",
      "genres                       4738 non-null object\n",
      "actor_1_name                 4738 non-null object\n",
      "movie_title                  4738 non-null object\n",
      "num_voted_users              4738 non-null int64\n",
      "cast_total_facebook_likes    4738 non-null int64\n",
      "actor_3_name                 4738 non-null object\n",
      "facenumber_in_poster         4738 non-null object\n",
      "plot_keywords                4738 non-null object\n",
      "movie_imdb_link              4738 non-null object\n",
      "num_user_for_reviews         4738 non-null object\n",
      "language                     4738 non-null object\n",
      "country                      4738 non-null object\n",
      "content_rating               4738 non-null object\n",
      "budget                       4738 non-null float64\n",
      "title_year                   4738 non-null float64\n",
      "actor_2_facebook_likes       4738 non-null float64\n",
      "imdb_score                   4738 non-null float64\n",
      "aspect_ratio                 4738 non-null object\n",
      "movie_facebook_likes         4738 non-null int64\n",
      "profit                       4738 non-null float64\n",
      "dtypes: float64(11), int64(4), object(14)\n",
      "memory usage: 1.1+ MB\n"
     ]
    }
   ],
   "source": [
    "df.info()"
   ]
  },
  {
   "cell_type": "code",
   "execution_count": 217,
   "metadata": {},
   "outputs": [
    {
     "data": {
      "text/plain": [
       "color                        0\n",
       "director_name                0\n",
       "num_critic_for_reviews       0\n",
       "duration                     0\n",
       "director_facebook_likes      0\n",
       "actor_3_facebook_likes       0\n",
       "actor_2_name                 0\n",
       "actor_1_facebook_likes       0\n",
       "gross                        0\n",
       "genres                       0\n",
       "actor_1_name                 0\n",
       "movie_title                  0\n",
       "num_voted_users              0\n",
       "cast_total_facebook_likes    0\n",
       "actor_3_name                 0\n",
       "facenumber_in_poster         0\n",
       "plot_keywords                0\n",
       "movie_imdb_link              0\n",
       "num_user_for_reviews         0\n",
       "language                     0\n",
       "country                      0\n",
       "content_rating               0\n",
       "budget                       0\n",
       "title_year                   0\n",
       "actor_2_facebook_likes       0\n",
       "imdb_score                   0\n",
       "aspect_ratio                 0\n",
       "movie_facebook_likes         0\n",
       "profit                       0\n",
       "dtype: int64"
      ]
     },
     "execution_count": 217,
     "metadata": {},
     "output_type": "execute_result"
    }
   ],
   "source": [
    "df.isnull().sum()"
   ]
  },
  {
   "cell_type": "markdown",
   "metadata": {},
   "source": [
    "# Regression "
   ]
  },
  {
   "cell_type": "code",
   "execution_count": 219,
   "metadata": {},
   "outputs": [
    {
     "data": {
      "text/html": [
       "<div>\n",
       "<style scoped>\n",
       "    .dataframe tbody tr th:only-of-type {\n",
       "        vertical-align: middle;\n",
       "    }\n",
       "\n",
       "    .dataframe tbody tr th {\n",
       "        vertical-align: top;\n",
       "    }\n",
       "\n",
       "    .dataframe thead th {\n",
       "        text-align: right;\n",
       "    }\n",
       "</style>\n",
       "<table border=\"1\" class=\"dataframe\">\n",
       "  <thead>\n",
       "    <tr style=\"text-align: right;\">\n",
       "      <th></th>\n",
       "      <th>color</th>\n",
       "      <th>num_critic_for_reviews</th>\n",
       "      <th>duration</th>\n",
       "      <th>director_facebook_likes</th>\n",
       "      <th>actor_3_facebook_likes</th>\n",
       "      <th>actor_1_facebook_likes</th>\n",
       "      <th>gross</th>\n",
       "      <th>num_voted_users</th>\n",
       "      <th>cast_total_facebook_likes</th>\n",
       "      <th>budget</th>\n",
       "      <th>title_year</th>\n",
       "      <th>actor_2_facebook_likes</th>\n",
       "      <th>imdb_score</th>\n",
       "      <th>movie_facebook_likes</th>\n",
       "      <th>profit</th>\n",
       "    </tr>\n",
       "  </thead>\n",
       "  <tbody>\n",
       "    <tr>\n",
       "      <td>color</td>\n",
       "      <td>1.000000</td>\n",
       "      <td>0.025597</td>\n",
       "      <td>-0.053524</td>\n",
       "      <td>-0.042418</td>\n",
       "      <td>0.032408</td>\n",
       "      <td>0.038640</td>\n",
       "      <td>0.036663</td>\n",
       "      <td>-0.016170</td>\n",
       "      <td>0.045725</td>\n",
       "      <td>0.020647</td>\n",
       "      <td>0.312081</td>\n",
       "      <td>0.034274</td>\n",
       "      <td>-0.150805</td>\n",
       "      <td>0.031755</td>\n",
       "      <td>-0.009006</td>\n",
       "    </tr>\n",
       "    <tr>\n",
       "      <td>num_critic_for_reviews</td>\n",
       "      <td>0.025597</td>\n",
       "      <td>1.000000</td>\n",
       "      <td>0.244006</td>\n",
       "      <td>0.180228</td>\n",
       "      <td>0.261401</td>\n",
       "      <td>0.188282</td>\n",
       "      <td>0.445006</td>\n",
       "      <td>0.618904</td>\n",
       "      <td>0.257767</td>\n",
       "      <td>0.114061</td>\n",
       "      <td>0.307578</td>\n",
       "      <td>0.273148</td>\n",
       "      <td>0.333374</td>\n",
       "      <td>0.689275</td>\n",
       "      <td>0.024858</td>\n",
       "    </tr>\n",
       "    <tr>\n",
       "      <td>duration</td>\n",
       "      <td>-0.053524</td>\n",
       "      <td>0.244006</td>\n",
       "      <td>1.000000</td>\n",
       "      <td>0.173724</td>\n",
       "      <td>0.125635</td>\n",
       "      <td>0.083464</td>\n",
       "      <td>0.229770</td>\n",
       "      <td>0.338038</td>\n",
       "      <td>0.118819</td>\n",
       "      <td>0.069735</td>\n",
       "      <td>-0.129341</td>\n",
       "      <td>0.131511</td>\n",
       "      <td>0.350074</td>\n",
       "      <td>0.213186</td>\n",
       "      <td>0.002181</td>\n",
       "    </tr>\n",
       "    <tr>\n",
       "      <td>director_facebook_likes</td>\n",
       "      <td>-0.042418</td>\n",
       "      <td>0.180228</td>\n",
       "      <td>0.173724</td>\n",
       "      <td>1.000000</td>\n",
       "      <td>0.122290</td>\n",
       "      <td>0.093403</td>\n",
       "      <td>0.140065</td>\n",
       "      <td>0.299847</td>\n",
       "      <td>0.122035</td>\n",
       "      <td>0.020296</td>\n",
       "      <td>-0.062446</td>\n",
       "      <td>0.120049</td>\n",
       "      <td>0.177856</td>\n",
       "      <td>0.161896</td>\n",
       "      <td>0.023158</td>\n",
       "    </tr>\n",
       "    <tr>\n",
       "      <td>actor_3_facebook_likes</td>\n",
       "      <td>0.032408</td>\n",
       "      <td>0.261401</td>\n",
       "      <td>0.125635</td>\n",
       "      <td>0.122290</td>\n",
       "      <td>1.000000</td>\n",
       "      <td>0.255047</td>\n",
       "      <td>0.285919</td>\n",
       "      <td>0.273992</td>\n",
       "      <td>0.477768</td>\n",
       "      <td>0.044364</td>\n",
       "      <td>0.103133</td>\n",
       "      <td>0.554639</td>\n",
       "      <td>0.054999</td>\n",
       "      <td>0.266266</td>\n",
       "      <td>0.044391</td>\n",
       "    </tr>\n",
       "    <tr>\n",
       "      <td>actor_1_facebook_likes</td>\n",
       "      <td>0.038640</td>\n",
       "      <td>0.188282</td>\n",
       "      <td>0.083464</td>\n",
       "      <td>0.093403</td>\n",
       "      <td>0.255047</td>\n",
       "      <td>1.000000</td>\n",
       "      <td>0.141684</td>\n",
       "      <td>0.191773</td>\n",
       "      <td>0.951075</td>\n",
       "      <td>0.021481</td>\n",
       "      <td>0.095128</td>\n",
       "      <td>0.399205</td>\n",
       "      <td>0.077098</td>\n",
       "      <td>0.135234</td>\n",
       "      <td>0.022492</td>\n",
       "    </tr>\n",
       "    <tr>\n",
       "      <td>gross</td>\n",
       "      <td>0.036663</td>\n",
       "      <td>0.445006</td>\n",
       "      <td>0.229770</td>\n",
       "      <td>0.140065</td>\n",
       "      <td>0.285919</td>\n",
       "      <td>0.141684</td>\n",
       "      <td>1.000000</td>\n",
       "      <td>0.615726</td>\n",
       "      <td>0.224817</td>\n",
       "      <td>0.099735</td>\n",
       "      <td>0.027037</td>\n",
       "      <td>0.248506</td>\n",
       "      <td>0.175959</td>\n",
       "      <td>0.362474</td>\n",
       "      <td>0.209724</td>\n",
       "    </tr>\n",
       "    <tr>\n",
       "      <td>num_voted_users</td>\n",
       "      <td>-0.016170</td>\n",
       "      <td>0.618904</td>\n",
       "      <td>0.338038</td>\n",
       "      <td>0.299847</td>\n",
       "      <td>0.273992</td>\n",
       "      <td>0.191773</td>\n",
       "      <td>0.615726</td>\n",
       "      <td>1.000000</td>\n",
       "      <td>0.259825</td>\n",
       "      <td>0.076026</td>\n",
       "      <td>0.022203</td>\n",
       "      <td>0.259445</td>\n",
       "      <td>0.434269</td>\n",
       "      <td>0.532448</td>\n",
       "      <td>0.114770</td>\n",
       "    </tr>\n",
       "    <tr>\n",
       "      <td>cast_total_facebook_likes</td>\n",
       "      <td>0.045725</td>\n",
       "      <td>0.257767</td>\n",
       "      <td>0.118819</td>\n",
       "      <td>0.122035</td>\n",
       "      <td>0.477768</td>\n",
       "      <td>0.951075</td>\n",
       "      <td>0.224817</td>\n",
       "      <td>0.259825</td>\n",
       "      <td>1.000000</td>\n",
       "      <td>0.034281</td>\n",
       "      <td>0.120740</td>\n",
       "      <td>0.637311</td>\n",
       "      <td>0.088019</td>\n",
       "      <td>0.205282</td>\n",
       "      <td>0.035496</td>\n",
       "    </tr>\n",
       "    <tr>\n",
       "      <td>budget</td>\n",
       "      <td>0.020647</td>\n",
       "      <td>0.114061</td>\n",
       "      <td>0.069735</td>\n",
       "      <td>0.020296</td>\n",
       "      <td>0.044364</td>\n",
       "      <td>0.021481</td>\n",
       "      <td>0.099735</td>\n",
       "      <td>0.076026</td>\n",
       "      <td>0.034281</td>\n",
       "      <td>1.000000</td>\n",
       "      <td>0.046899</td>\n",
       "      <td>0.041467</td>\n",
       "      <td>0.029054</td>\n",
       "      <td>0.058542</td>\n",
       "      <td>-0.951968</td>\n",
       "    </tr>\n",
       "    <tr>\n",
       "      <td>title_year</td>\n",
       "      <td>0.312081</td>\n",
       "      <td>0.307578</td>\n",
       "      <td>-0.129341</td>\n",
       "      <td>-0.062446</td>\n",
       "      <td>0.103133</td>\n",
       "      <td>0.095128</td>\n",
       "      <td>0.027037</td>\n",
       "      <td>0.022203</td>\n",
       "      <td>0.120740</td>\n",
       "      <td>0.046899</td>\n",
       "      <td>1.000000</td>\n",
       "      <td>0.111301</td>\n",
       "      <td>-0.205103</td>\n",
       "      <td>0.229378</td>\n",
       "      <td>-0.037766</td>\n",
       "    </tr>\n",
       "    <tr>\n",
       "      <td>actor_2_facebook_likes</td>\n",
       "      <td>0.034274</td>\n",
       "      <td>0.273148</td>\n",
       "      <td>0.131511</td>\n",
       "      <td>0.120049</td>\n",
       "      <td>0.554639</td>\n",
       "      <td>0.399205</td>\n",
       "      <td>0.248506</td>\n",
       "      <td>0.259445</td>\n",
       "      <td>0.637311</td>\n",
       "      <td>0.041467</td>\n",
       "      <td>0.111301</td>\n",
       "      <td>1.000000</td>\n",
       "      <td>0.089289</td>\n",
       "      <td>0.235071</td>\n",
       "      <td>0.035724</td>\n",
       "    </tr>\n",
       "    <tr>\n",
       "      <td>imdb_score</td>\n",
       "      <td>-0.150805</td>\n",
       "      <td>0.333374</td>\n",
       "      <td>0.350074</td>\n",
       "      <td>0.177856</td>\n",
       "      <td>0.054999</td>\n",
       "      <td>0.077098</td>\n",
       "      <td>0.175959</td>\n",
       "      <td>0.434269</td>\n",
       "      <td>0.088019</td>\n",
       "      <td>0.029054</td>\n",
       "      <td>-0.205103</td>\n",
       "      <td>0.089289</td>\n",
       "      <td>1.000000</td>\n",
       "      <td>0.258531</td>\n",
       "      <td>0.025598</td>\n",
       "    </tr>\n",
       "    <tr>\n",
       "      <td>movie_facebook_likes</td>\n",
       "      <td>0.031755</td>\n",
       "      <td>0.689275</td>\n",
       "      <td>0.213186</td>\n",
       "      <td>0.161896</td>\n",
       "      <td>0.266266</td>\n",
       "      <td>0.135234</td>\n",
       "      <td>0.362474</td>\n",
       "      <td>0.532448</td>\n",
       "      <td>0.205282</td>\n",
       "      <td>0.058542</td>\n",
       "      <td>0.229378</td>\n",
       "      <td>0.235071</td>\n",
       "      <td>0.258531</td>\n",
       "      <td>1.000000</td>\n",
       "      <td>0.054017</td>\n",
       "    </tr>\n",
       "    <tr>\n",
       "      <td>profit</td>\n",
       "      <td>-0.009006</td>\n",
       "      <td>0.024858</td>\n",
       "      <td>0.002181</td>\n",
       "      <td>0.023158</td>\n",
       "      <td>0.044391</td>\n",
       "      <td>0.022492</td>\n",
       "      <td>0.209724</td>\n",
       "      <td>0.114770</td>\n",
       "      <td>0.035496</td>\n",
       "      <td>-0.951968</td>\n",
       "      <td>-0.037766</td>\n",
       "      <td>0.035724</td>\n",
       "      <td>0.025598</td>\n",
       "      <td>0.054017</td>\n",
       "      <td>1.000000</td>\n",
       "    </tr>\n",
       "  </tbody>\n",
       "</table>\n",
       "</div>"
      ],
      "text/plain": [
       "                              color  num_critic_for_reviews  duration  \\\n",
       "color                      1.000000                0.025597 -0.053524   \n",
       "num_critic_for_reviews     0.025597                1.000000  0.244006   \n",
       "duration                  -0.053524                0.244006  1.000000   \n",
       "director_facebook_likes   -0.042418                0.180228  0.173724   \n",
       "actor_3_facebook_likes     0.032408                0.261401  0.125635   \n",
       "actor_1_facebook_likes     0.038640                0.188282  0.083464   \n",
       "gross                      0.036663                0.445006  0.229770   \n",
       "num_voted_users           -0.016170                0.618904  0.338038   \n",
       "cast_total_facebook_likes  0.045725                0.257767  0.118819   \n",
       "budget                     0.020647                0.114061  0.069735   \n",
       "title_year                 0.312081                0.307578 -0.129341   \n",
       "actor_2_facebook_likes     0.034274                0.273148  0.131511   \n",
       "imdb_score                -0.150805                0.333374  0.350074   \n",
       "movie_facebook_likes       0.031755                0.689275  0.213186   \n",
       "profit                    -0.009006                0.024858  0.002181   \n",
       "\n",
       "                           director_facebook_likes  actor_3_facebook_likes  \\\n",
       "color                                    -0.042418                0.032408   \n",
       "num_critic_for_reviews                    0.180228                0.261401   \n",
       "duration                                  0.173724                0.125635   \n",
       "director_facebook_likes                   1.000000                0.122290   \n",
       "actor_3_facebook_likes                    0.122290                1.000000   \n",
       "actor_1_facebook_likes                    0.093403                0.255047   \n",
       "gross                                     0.140065                0.285919   \n",
       "num_voted_users                           0.299847                0.273992   \n",
       "cast_total_facebook_likes                 0.122035                0.477768   \n",
       "budget                                    0.020296                0.044364   \n",
       "title_year                               -0.062446                0.103133   \n",
       "actor_2_facebook_likes                    0.120049                0.554639   \n",
       "imdb_score                                0.177856                0.054999   \n",
       "movie_facebook_likes                      0.161896                0.266266   \n",
       "profit                                    0.023158                0.044391   \n",
       "\n",
       "                           actor_1_facebook_likes     gross  num_voted_users  \\\n",
       "color                                    0.038640  0.036663        -0.016170   \n",
       "num_critic_for_reviews                   0.188282  0.445006         0.618904   \n",
       "duration                                 0.083464  0.229770         0.338038   \n",
       "director_facebook_likes                  0.093403  0.140065         0.299847   \n",
       "actor_3_facebook_likes                   0.255047  0.285919         0.273992   \n",
       "actor_1_facebook_likes                   1.000000  0.141684         0.191773   \n",
       "gross                                    0.141684  1.000000         0.615726   \n",
       "num_voted_users                          0.191773  0.615726         1.000000   \n",
       "cast_total_facebook_likes                0.951075  0.224817         0.259825   \n",
       "budget                                   0.021481  0.099735         0.076026   \n",
       "title_year                               0.095128  0.027037         0.022203   \n",
       "actor_2_facebook_likes                   0.399205  0.248506         0.259445   \n",
       "imdb_score                               0.077098  0.175959         0.434269   \n",
       "movie_facebook_likes                     0.135234  0.362474         0.532448   \n",
       "profit                                   0.022492  0.209724         0.114770   \n",
       "\n",
       "                           cast_total_facebook_likes    budget  title_year  \\\n",
       "color                                       0.045725  0.020647    0.312081   \n",
       "num_critic_for_reviews                      0.257767  0.114061    0.307578   \n",
       "duration                                    0.118819  0.069735   -0.129341   \n",
       "director_facebook_likes                     0.122035  0.020296   -0.062446   \n",
       "actor_3_facebook_likes                      0.477768  0.044364    0.103133   \n",
       "actor_1_facebook_likes                      0.951075  0.021481    0.095128   \n",
       "gross                                       0.224817  0.099735    0.027037   \n",
       "num_voted_users                             0.259825  0.076026    0.022203   \n",
       "cast_total_facebook_likes                   1.000000  0.034281    0.120740   \n",
       "budget                                      0.034281  1.000000    0.046899   \n",
       "title_year                                  0.120740  0.046899    1.000000   \n",
       "actor_2_facebook_likes                      0.637311  0.041467    0.111301   \n",
       "imdb_score                                  0.088019  0.029054   -0.205103   \n",
       "movie_facebook_likes                        0.205282  0.058542    0.229378   \n",
       "profit                                      0.035496 -0.951968   -0.037766   \n",
       "\n",
       "                           actor_2_facebook_likes  imdb_score  \\\n",
       "color                                    0.034274   -0.150805   \n",
       "num_critic_for_reviews                   0.273148    0.333374   \n",
       "duration                                 0.131511    0.350074   \n",
       "director_facebook_likes                  0.120049    0.177856   \n",
       "actor_3_facebook_likes                   0.554639    0.054999   \n",
       "actor_1_facebook_likes                   0.399205    0.077098   \n",
       "gross                                    0.248506    0.175959   \n",
       "num_voted_users                          0.259445    0.434269   \n",
       "cast_total_facebook_likes                0.637311    0.088019   \n",
       "budget                                   0.041467    0.029054   \n",
       "title_year                               0.111301   -0.205103   \n",
       "actor_2_facebook_likes                   1.000000    0.089289   \n",
       "imdb_score                               0.089289    1.000000   \n",
       "movie_facebook_likes                     0.235071    0.258531   \n",
       "profit                                   0.035724    0.025598   \n",
       "\n",
       "                           movie_facebook_likes    profit  \n",
       "color                                  0.031755 -0.009006  \n",
       "num_critic_for_reviews                 0.689275  0.024858  \n",
       "duration                               0.213186  0.002181  \n",
       "director_facebook_likes                0.161896  0.023158  \n",
       "actor_3_facebook_likes                 0.266266  0.044391  \n",
       "actor_1_facebook_likes                 0.135234  0.022492  \n",
       "gross                                  0.362474  0.209724  \n",
       "num_voted_users                        0.532448  0.114770  \n",
       "cast_total_facebook_likes              0.205282  0.035496  \n",
       "budget                                 0.058542 -0.951968  \n",
       "title_year                             0.229378 -0.037766  \n",
       "actor_2_facebook_likes                 0.235071  0.035724  \n",
       "imdb_score                             0.258531  0.025598  \n",
       "movie_facebook_likes                   1.000000  0.054017  \n",
       "profit                                 0.054017  1.000000  "
      ]
     },
     "execution_count": 219,
     "metadata": {},
     "output_type": "execute_result"
    }
   ],
   "source": [
    "df.corr()"
   ]
  },
  {
   "cell_type": "code",
   "execution_count": 220,
   "metadata": {},
   "outputs": [
    {
     "data": {
      "text/plain": [
       "<matplotlib.axes._subplots.AxesSubplot at 0x1c2f45de50>"
      ]
     },
     "execution_count": 220,
     "metadata": {},
     "output_type": "execute_result"
    },
    {
     "data": {
      "image/png": "[encoded data removed]",
      "text/plain": [
       "<Figure size 864x576 with 2 Axes>"
      ]
     },
     "metadata": {
      "needs_background": "light"
     },
     "output_type": "display_data"
    }
   ],
   "source": [
    "plt.figure(figsize=(12,8))\n",
    "sns.heatmap(df.corr(), annot=True)"
   ]
  },
  {
   "cell_type": "code",
   "execution_count": 221,
   "metadata": {},
   "outputs": [
    {
     "data": {
      "text/html": [
       "<div>\n",
       "<style scoped>\n",
       "    .dataframe tbody tr th:only-of-type {\n",
       "        vertical-align: middle;\n",
       "    }\n",
       "\n",
       "    .dataframe tbody tr th {\n",
       "        vertical-align: top;\n",
       "    }\n",
       "\n",
       "    .dataframe thead th {\n",
       "        text-align: right;\n",
       "    }\n",
       "</style>\n",
       "<table border=\"1\" class=\"dataframe\">\n",
       "  <thead>\n",
       "    <tr style=\"text-align: right;\">\n",
       "      <th></th>\n",
       "      <th>color</th>\n",
       "      <th>director_name</th>\n",
       "      <th>num_critic_for_reviews</th>\n",
       "      <th>duration</th>\n",
       "      <th>director_facebook_likes</th>\n",
       "      <th>actor_3_facebook_likes</th>\n",
       "      <th>actor_2_name</th>\n",
       "      <th>actor_1_facebook_likes</th>\n",
       "      <th>gross</th>\n",
       "      <th>genres</th>\n",
       "      <th>...</th>\n",
       "      <th>country</th>\n",
       "      <th>content_rating</th>\n",
       "      <th>budget</th>\n",
       "      <th>title_year</th>\n",
       "      <th>actor_2_facebook_likes</th>\n",
       "      <th>imdb_score</th>\n",
       "      <th>aspect_ratio</th>\n",
       "      <th>movie_facebook_likes</th>\n",
       "      <th>profit</th>\n",
       "      <th>bins</th>\n",
       "    </tr>\n",
       "  </thead>\n",
       "  <tbody>\n",
       "    <tr>\n",
       "      <td>0</td>\n",
       "      <td>1</td>\n",
       "      <td>James Cameron</td>\n",
       "      <td>723.0</td>\n",
       "      <td>178.0</td>\n",
       "      <td>0.0</td>\n",
       "      <td>855.0</td>\n",
       "      <td>Joel David Moore</td>\n",
       "      <td>1000.0</td>\n",
       "      <td>760505847.0</td>\n",
       "      <td>Action</td>\n",
       "      <td>...</td>\n",
       "      <td>USA</td>\n",
       "      <td>PG-13</td>\n",
       "      <td>237000000.0</td>\n",
       "      <td>2009.0</td>\n",
       "      <td>936.0</td>\n",
       "      <td>7.9</td>\n",
       "      <td>1.78</td>\n",
       "      <td>33000</td>\n",
       "      <td>523505847.0</td>\n",
       "      <td>4</td>\n",
       "    </tr>\n",
       "    <tr>\n",
       "      <td>1</td>\n",
       "      <td>1</td>\n",
       "      <td>Gore Verbinski</td>\n",
       "      <td>302.0</td>\n",
       "      <td>169.0</td>\n",
       "      <td>563.0</td>\n",
       "      <td>1000.0</td>\n",
       "      <td>Orlando Bloom</td>\n",
       "      <td>40000.0</td>\n",
       "      <td>309404152.0</td>\n",
       "      <td>Action</td>\n",
       "      <td>...</td>\n",
       "      <td>USA</td>\n",
       "      <td>PG-13</td>\n",
       "      <td>300000000.0</td>\n",
       "      <td>2007.0</td>\n",
       "      <td>5000.0</td>\n",
       "      <td>7.1</td>\n",
       "      <td>2.35</td>\n",
       "      <td>0</td>\n",
       "      <td>9404152.0</td>\n",
       "      <td>3</td>\n",
       "    </tr>\n",
       "    <tr>\n",
       "      <td>2</td>\n",
       "      <td>1</td>\n",
       "      <td>Sam Mendes</td>\n",
       "      <td>602.0</td>\n",
       "      <td>148.0</td>\n",
       "      <td>0.0</td>\n",
       "      <td>161.0</td>\n",
       "      <td>Rory Kinnear</td>\n",
       "      <td>11000.0</td>\n",
       "      <td>200074175.0</td>\n",
       "      <td>Action</td>\n",
       "      <td>...</td>\n",
       "      <td>UK</td>\n",
       "      <td>PG-13</td>\n",
       "      <td>245000000.0</td>\n",
       "      <td>2015.0</td>\n",
       "      <td>393.0</td>\n",
       "      <td>6.8</td>\n",
       "      <td>2.35</td>\n",
       "      <td>85000</td>\n",
       "      <td>-44925825.0</td>\n",
       "      <td>3</td>\n",
       "    </tr>\n",
       "    <tr>\n",
       "      <td>3</td>\n",
       "      <td>1</td>\n",
       "      <td>Christopher Nolan</td>\n",
       "      <td>813.0</td>\n",
       "      <td>164.0</td>\n",
       "      <td>22000.0</td>\n",
       "      <td>23000.0</td>\n",
       "      <td>Christian Bale</td>\n",
       "      <td>27000.0</td>\n",
       "      <td>448130642.0</td>\n",
       "      <td>Action</td>\n",
       "      <td>...</td>\n",
       "      <td>USA</td>\n",
       "      <td>PG-13</td>\n",
       "      <td>250000000.0</td>\n",
       "      <td>2012.0</td>\n",
       "      <td>23000.0</td>\n",
       "      <td>8.5</td>\n",
       "      <td>2.35</td>\n",
       "      <td>164000</td>\n",
       "      <td>198130642.0</td>\n",
       "      <td>4</td>\n",
       "    </tr>\n",
       "    <tr>\n",
       "      <td>5</td>\n",
       "      <td>1</td>\n",
       "      <td>Andrew Stanton</td>\n",
       "      <td>462.0</td>\n",
       "      <td>132.0</td>\n",
       "      <td>475.0</td>\n",
       "      <td>530.0</td>\n",
       "      <td>Samantha Morton</td>\n",
       "      <td>640.0</td>\n",
       "      <td>73058679.0</td>\n",
       "      <td>Action</td>\n",
       "      <td>...</td>\n",
       "      <td>USA</td>\n",
       "      <td>PG-13</td>\n",
       "      <td>263700000.0</td>\n",
       "      <td>2012.0</td>\n",
       "      <td>632.0</td>\n",
       "      <td>6.6</td>\n",
       "      <td>2.35</td>\n",
       "      <td>24000</td>\n",
       "      <td>-190641321.0</td>\n",
       "      <td>3</td>\n",
       "    </tr>\n",
       "  </tbody>\n",
       "</table>\n",
       "<p>5 rows × 30 columns</p>\n",
       "</div>"
      ],
      "text/plain": [
       "   color      director_name  num_critic_for_reviews  duration  \\\n",
       "0      1      James Cameron                   723.0     178.0   \n",
       "1      1     Gore Verbinski                   302.0     169.0   \n",
       "2      1         Sam Mendes                   602.0     148.0   \n",
       "3      1  Christopher Nolan                   813.0     164.0   \n",
       "5      1     Andrew Stanton                   462.0     132.0   \n",
       "\n",
       "   director_facebook_likes  actor_3_facebook_likes      actor_2_name  \\\n",
       "0                      0.0                   855.0  Joel David Moore   \n",
       "1                    563.0                  1000.0     Orlando Bloom   \n",
       "2                      0.0                   161.0      Rory Kinnear   \n",
       "3                  22000.0                 23000.0    Christian Bale   \n",
       "5                    475.0                   530.0   Samantha Morton   \n",
       "\n",
       "   actor_1_facebook_likes        gross  genres  ... country content_rating  \\\n",
       "0                  1000.0  760505847.0  Action  ...     USA          PG-13   \n",
       "1                 40000.0  309404152.0  Action  ...     USA          PG-13   \n",
       "2                 11000.0  200074175.0  Action  ...      UK          PG-13   \n",
       "3                 27000.0  448130642.0  Action  ...     USA          PG-13   \n",
       "5                   640.0   73058679.0  Action  ...     USA          PG-13   \n",
       "\n",
       "        budget  title_year actor_2_facebook_likes imdb_score aspect_ratio  \\\n",
       "0  237000000.0      2009.0                  936.0        7.9         1.78   \n",
       "1  300000000.0      2007.0                 5000.0        7.1         2.35   \n",
       "2  245000000.0      2015.0                  393.0        6.8         2.35   \n",
       "3  250000000.0      2012.0                23000.0        8.5         2.35   \n",
       "5  263700000.0      2012.0                  632.0        6.6         2.35   \n",
       "\n",
       "  movie_facebook_likes       profit bins  \n",
       "0                33000  523505847.0    4  \n",
       "1                    0    9404152.0    3  \n",
       "2                85000  -44925825.0    3  \n",
       "3               164000  198130642.0    4  \n",
       "5                24000 -190641321.0    3  \n",
       "\n",
       "[5 rows x 30 columns]"
      ]
     },
     "execution_count": 221,
     "metadata": {},
     "output_type": "execute_result"
    }
   ],
   "source": [
    "df['bins']= pd.cut(df['imdb_score'], 4, labels = ['1','2','3','4'])\n",
    "df.head()\n"
   ]
  },
  {
   "cell_type": "code",
   "execution_count": 240,
   "metadata": {
    "scrolled": false
   },
   "outputs": [
    {
     "name": "stdout",
     "output_type": "stream",
     "text": [
      "                            OLS Regression Results                            \n",
      "==============================================================================\n",
      "Dep. Variable:             imdb_score   R-squared:                       0.312\n",
      "Model:                            OLS   Adj. R-squared:                  0.311\n",
      "Method:                 Least Squares   F-statistic:                     238.5\n",
      "Date:                Tue, 10 Dec 2019   Prob (F-statistic):               0.00\n",
      "Time:                        18:05:35   Log-Likelihood:                -6298.8\n",
      "No. Observations:                4738   AIC:                         1.262e+04\n",
      "Df Residuals:                    4728   BIC:                         1.268e+04\n",
      "Df Model:                           9                                         \n",
      "Covariance Type:            nonrobust                                         \n",
      "===========================================================================================\n",
      "                              coef    std err          t      P>|t|      [0.025      0.975]\n",
      "-------------------------------------------------------------------------------------------\n",
      "Intercept                  50.1436      2.363     21.224      0.000      45.512      54.775\n",
      "movie_facebook_likes     -1.79e-07   9.53e-07     -0.188      0.851   -2.05e-06    1.69e-06\n",
      "actor_1_facebook_likes   6.921e-08   9.14e-07      0.076      0.940   -1.72e-06    1.86e-06\n",
      "title_year                 -0.0225      0.001    -19.142      0.000      -0.025      -0.020\n",
      "budget                  -3.987e-11   6.66e-11     -0.599      0.549    -1.7e-10    9.06e-11\n",
      "num_voted_users           2.63e-06   1.48e-07     17.788      0.000    2.34e-06    2.92e-06\n",
      "gross                   -2.982e-09    2.7e-10    -11.058      0.000   -3.51e-09   -2.45e-09\n",
      "director_facebook_likes  4.363e-06   4.93e-06      0.885      0.376    -5.3e-06     1.4e-05\n",
      "num_critic_for_reviews      0.0022      0.000     12.238      0.000       0.002       0.002\n",
      "duration                    0.0090      0.001     14.095      0.000       0.008       0.010\n",
      "==============================================================================\n",
      "Omnibus:                      615.929   Durbin-Watson:                   1.894\n",
      "Prob(Omnibus):                  0.000   Jarque-Bera (JB):             1171.972\n",
      "Skew:                          -0.829   Prob(JB):                    3.23e-255\n",
      "Kurtosis:                       4.786   Cond. No.                     3.67e+10\n",
      "==============================================================================\n",
      "\n",
      "Warnings:\n",
      "[1] Standard Errors assume that the covariance matrix of the errors is correctly specified.\n",
      "[2] The condition number is large, 3.67e+10. This might indicate that there are\n",
      "strong multicollinearity or other numerical problems.\n"
     ]
    }
   ],
   "source": [
    "runs_reg_model = ols(\"imdb_score~movie_facebook_likes+actor_1_facebook_likes+title_year+budget+num_voted_users+gross+director_facebook_likes+num_critic_for_reviews+duration\",df)\n",
    "runs_reg = runs_reg_model.fit()\n",
    "print(runs_reg.summary())"
   ]
  },
  {
   "cell_type": "markdown",
   "metadata": {},
   "source": [
    "There are too many variables included in this regression. While interesting to see how all of the variables can affect the bigger picture of IMDB score there is simply too much going on in this regression to see what is happening. I will run the regression again with fewer variables."
   ]
  },
  {
   "cell_type": "code",
   "execution_count": 244,
   "metadata": {},
   "outputs": [
    {
     "name": "stdout",
     "output_type": "stream",
     "text": [
      "                            OLS Regression Results                            \n",
      "==============================================================================\n",
      "Dep. Variable:             imdb_score   R-squared:                       0.188\n",
      "Model:                            OLS   Adj. R-squared:                  0.188\n",
      "Method:                 Least Squares   F-statistic:                     274.7\n",
      "Date:                Tue, 10 Dec 2019   Prob (F-statistic):          1.22e-212\n",
      "Time:                        18:13:12   Log-Likelihood:                -6690.9\n",
      "No. Observations:                4738   AIC:                         1.339e+04\n",
      "Df Residuals:                    4733   BIC:                         1.342e+04\n",
      "Df Model:                           4                                         \n",
      "Covariance Type:            nonrobust                                         \n",
      "==========================================================================================\n",
      "                             coef    std err          t      P>|t|      [0.025      0.975]\n",
      "------------------------------------------------------------------------------------------\n",
      "Intercept                  4.5607      0.071     64.233      0.000       4.422       4.700\n",
      "budget                 -1.143e-10   7.22e-11     -1.584      0.113   -2.56e-10    2.72e-11\n",
      "gross                  -1.356e-10   2.58e-10     -0.526      0.599   -6.41e-10     3.7e-10\n",
      "num_critic_for_reviews     0.0025      0.000     18.107      0.000       0.002       0.003\n",
      "duration                   0.0140      0.001     21.082      0.000       0.013       0.015\n",
      "==============================================================================\n",
      "Omnibus:                      413.430   Durbin-Watson:                   1.851\n",
      "Prob(Omnibus):                  0.000   Jarque-Bera (JB):              612.401\n",
      "Skew:                          -0.682   Prob(JB):                    1.04e-133\n",
      "Kurtosis:                       4.113   Cond. No.                     1.02e+09\n",
      "==============================================================================\n",
      "\n",
      "Warnings:\n",
      "[1] Standard Errors assume that the covariance matrix of the errors is correctly specified.\n",
      "[2] The condition number is large, 1.02e+09. This might indicate that there are\n",
      "strong multicollinearity or other numerical problems.\n"
     ]
    }
   ],
   "source": [
    "runs_reg_model = ols(\"imdb_score~budget+gross+num_critic_for_reviews+duration\",df)\n",
    "runs_reg = runs_reg_model.fit()\n",
    "print(runs_reg.summary())"
   ]
  },
  {
   "cell_type": "markdown",
   "metadata": {},
   "source": [
    "The number of critic reviews and the duration had significance on the IMDB score because the p-value was 0. This makes sense becuase a movie that is too long or too short does not score well so it makes sense that it has a significant affect on score. R squared value is .188 so that could be improved."
   ]
  },
  {
   "cell_type": "markdown",
   "metadata": {},
   "source": [
    "## Classification"
   ]
  },
  {
   "cell_type": "markdown",
   "metadata": {},
   "source": [
    "### KNN"
   ]
  },
  {
   "cell_type": "code",
   "execution_count": 256,
   "metadata": {},
   "outputs": [],
   "source": [
    "#assigning columns to X and Y variables\n",
    "X = df[['movie_facebook_likes','actor_1_facebook_likes','title_year','budget','num_voted_users','gross','director_facebook_likes','num_critic_for_reviews','duration']]\n",
    "y = df['bins']"
   ]
  },
  {
   "cell_type": "code",
   "execution_count": 257,
   "metadata": {},
   "outputs": [
    {
     "name": "stdout",
     "output_type": "stream",
     "text": [
      "<class 'pandas.core.frame.DataFrame'>\n",
      "Int64Index: 4738 entries, 0 to 5042\n",
      "Data columns (total 9 columns):\n",
      "movie_facebook_likes       4738 non-null int64\n",
      "actor_1_facebook_likes     4738 non-null float64\n",
      "title_year                 4738 non-null float64\n",
      "budget                     4738 non-null float64\n",
      "num_voted_users            4738 non-null int64\n",
      "gross                      4738 non-null float64\n",
      "director_facebook_likes    4738 non-null float64\n",
      "num_critic_for_reviews     4738 non-null float64\n",
      "duration                   4738 non-null float64\n",
      "dtypes: float64(7), int64(2)\n",
      "memory usage: 370.2 KB\n"
     ]
    }
   ],
   "source": [
    "X.info()"
   ]
  },
  {
   "cell_type": "code",
   "execution_count": 258,
   "metadata": {},
   "outputs": [],
   "source": [
    "X_train, X_test, y_train, y_test = train_test_split(X, y, test_size=0.3, random_state=42)\n",
    "knn = KNeighborsClassifier()\n",
    "knn = knn.fit(X_train, y_train)"
   ]
  },
  {
   "cell_type": "code",
   "execution_count": 259,
   "metadata": {},
   "outputs": [
    {
     "name": "stdout",
     "output_type": "stream",
     "text": [
      "0.5773558368495078\n",
      "--------------------------------------------------------\n",
      "[[  0   4  22   0]\n",
      " [  1  30 156  10]\n",
      " [  4 100 751  68]\n",
      " [  2  25 209  40]]\n",
      "--------------------------------------------------------\n",
      "              precision    recall  f1-score   support\n",
      "\n",
      "           1       0.00      0.00      0.00        26\n",
      "           2       0.19      0.15      0.17       197\n",
      "           3       0.66      0.81      0.73       923\n",
      "           4       0.34      0.14      0.20       276\n",
      "\n",
      "    accuracy                           0.58      1422\n",
      "   macro avg       0.30      0.28      0.28      1422\n",
      "weighted avg       0.52      0.58      0.54      1422\n",
      "\n"
     ]
    }
   ],
   "source": [
    "print(metrics.accuracy_score(y_test, knn.predict(X_test)))\n",
    "print(\"--------------------------------------------------------\")\n",
    "print(metrics.confusion_matrix(y_test, knn.predict(X_test))) \n",
    "print(\"--------------------------------------------------------\")\n",
    "print(metrics.classification_report(y_test, knn.predict(X_test)))"
   ]
  },
  {
   "cell_type": "markdown",
   "metadata": {},
   "source": [
    "The KNN model gives an accuracy of 57% for predicting the bin of the IMDB score for the movies. This accuracy is not very good. However, 751 movies were correctly predicted for the third bin which was surprisingly accurate. Overall, 821 movies were correctly predicted as to which bin their score would fall into."
   ]
  },
  {
   "cell_type": "markdown",
   "metadata": {},
   "source": [
    "### Decision Tree"
   ]
  },
  {
   "cell_type": "code",
   "execution_count": 260,
   "metadata": {},
   "outputs": [
    {
     "name": "stdout",
     "output_type": "stream",
     "text": [
      "(4738,) (4738, 9)\n"
     ]
    }
   ],
   "source": [
    "#Decision Tree\n",
    "\n",
    "print(y.shape, X.shape)"
   ]
  },
  {
   "cell_type": "code",
   "execution_count": 262,
   "metadata": {},
   "outputs": [
    {
     "data": {
      "text/plain": [
       "DecisionTreeClassifier(class_weight=None, criterion='gini', max_depth=None,\n",
       "                       max_features=5, max_leaf_nodes=9,\n",
       "                       min_impurity_decrease=0.0, min_impurity_split=None,\n",
       "                       min_samples_leaf=1, min_samples_split=2,\n",
       "                       min_weight_fraction_leaf=0.0, presort=False,\n",
       "                       random_state=None, splitter='best')"
      ]
     },
     "execution_count": 262,
     "metadata": {},
     "output_type": "execute_result"
    }
   ],
   "source": [
    "X_train, X_test, y_train, y_test = train_test_split(X, y, test_size=0.3, random_state=42)\n",
    "\n",
    "# Initialize DecisionTreeClassifier() ... name your decision model \"dt\"\n",
    "dt = DecisionTreeClassifier(max_features = 5, max_leaf_nodes = 9)\n",
    "\n",
    "# Train a decision tree model\n",
    "dt = dt.fit(X_train, y_train)\n",
    "\n",
    "dt"
   ]
  },
  {
   "cell_type": "code",
   "execution_count": 263,
   "metadata": {},
   "outputs": [
    {
     "name": "stdout",
     "output_type": "stream",
     "text": [
      "0.680731364275668\n",
      "--------------------------------------------------------\n",
      "[[  0   0  26   0]\n",
      " [  0   0 196   1]\n",
      " [  0   0 869  54]\n",
      " [  0   0 177  99]]\n",
      "--------------------------------------------------------\n",
      "              precision    recall  f1-score   support\n",
      "\n",
      "           1       0.00      0.00      0.00        26\n",
      "           2       0.00      0.00      0.00       197\n",
      "           3       0.69      0.94      0.79       923\n",
      "           4       0.64      0.36      0.46       276\n",
      "\n",
      "    accuracy                           0.68      1422\n",
      "   macro avg       0.33      0.33      0.31      1422\n",
      "weighted avg       0.57      0.68      0.60      1422\n",
      "\n"
     ]
    }
   ],
   "source": [
    "print(metrics.accuracy_score(y_test, dt.predict(X_test)))\n",
    "print(\"--------------------------------------------------------\")\n",
    "print(metrics.confusion_matrix(y_test, dt.predict(X_test))) \n",
    "print(\"--------------------------------------------------------\")\n",
    "print(metrics.classification_report(y_test, dt.predict(X_test)))\n"
   ]
  },
  {
   "cell_type": "markdown",
   "metadata": {},
   "source": [
    "The decision tree is 68% accurate which was better than the KNN method. It correctly predicted 968 out of 1422 movies. "
   ]
  },
  {
   "cell_type": "code",
   "execution_count": 265,
   "metadata": {},
   "outputs": [
    {
     "name": "stdout",
     "output_type": "stream",
     "text": [
      "Collecting scikit-plot\n",
      "  Using cached https://files.pythonhosted.org/packages/7c/47/32520e259340c140a4ad27c1b97050dd3254fdc517b1d59974d47037510e/scikit_plot-0.3.7-py3-none-any.whl\n",
      "Requirement already satisfied: scikit-learn>=0.18 in /opt/anaconda3/lib/python3.7/site-packages (from scikit-plot) (0.21.3)\n",
      "Requirement already satisfied: matplotlib>=1.4.0 in /opt/anaconda3/lib/python3.7/site-packages (from scikit-plot) (3.1.1)\n",
      "Requirement already satisfied: joblib>=0.10 in /opt/anaconda3/lib/python3.7/site-packages (from scikit-plot) (0.13.2)\n",
      "Requirement already satisfied: scipy>=0.9 in /opt/anaconda3/lib/python3.7/site-packages (from scikit-plot) (1.3.1)\n",
      "Requirement already satisfied: numpy>=1.11.0 in /opt/anaconda3/lib/python3.7/site-packages (from scikit-learn>=0.18->scikit-plot) (1.17.2)\n",
      "Requirement already satisfied: cycler>=0.10 in /opt/anaconda3/lib/python3.7/site-packages (from matplotlib>=1.4.0->scikit-plot) (0.10.0)\n",
      "Requirement already satisfied: kiwisolver>=1.0.1 in /opt/anaconda3/lib/python3.7/site-packages (from matplotlib>=1.4.0->scikit-plot) (1.1.0)\n",
      "Requirement already satisfied: pyparsing!=2.0.4,!=2.1.2,!=2.1.6,>=2.0.1 in /opt/anaconda3/lib/python3.7/site-packages (from matplotlib>=1.4.0->scikit-plot) (2.4.2)\n",
      "Requirement already satisfied: python-dateutil>=2.1 in /opt/anaconda3/lib/python3.7/site-packages (from matplotlib>=1.4.0->scikit-plot) (2.8.0)\n",
      "Requirement already satisfied: six in /opt/anaconda3/lib/python3.7/site-packages (from cycler>=0.10->matplotlib>=1.4.0->scikit-plot) (1.12.0)\n",
      "Requirement already satisfied: setuptools in /opt/anaconda3/lib/python3.7/site-packages (from kiwisolver>=1.0.1->matplotlib>=1.4.0->scikit-plot) (41.4.0)\n",
      "Installing collected packages: scikit-plot\n",
      "Successfully installed scikit-plot-0.3.7\n"
     ]
    }
   ],
   "source": [
    "!pip install scikit-plot"
   ]
  },
  {
   "cell_type": "code",
   "execution_count": 267,
   "metadata": {},
   "outputs": [],
   "source": [
    "import scikitplot as skplt"
   ]
  },
  {
   "cell_type": "code",
   "execution_count": 271,
   "metadata": {},
   "outputs": [
    {
     "data": {
      "text/plain": [
       "<Figure size 720x720 with 0 Axes>"
      ]
     },
     "metadata": {},
     "output_type": "display_data"
    },
    {
     "data": {
      "image/png": "[encoded data removed]",
      "text/plain": [
       "<Figure size 432x288 with 2 Axes>"
      ]
     },
     "metadata": {
      "needs_background": "light"
     },
     "output_type": "display_data"
    }
   ],
   "source": [
    "plt.figure(figsize = (10,10))\n",
    "skplt.metrics.plot_confusion_matrix(y_true=np.array(y_test), y_pred=dt.predict(X_test))\n",
    "plt.show()"
   ]
  },
  {
   "cell_type": "markdown",
   "metadata": {},
   "source": [
    "Visual representation of the confusion matrix with color."
   ]
  },
  {
   "cell_type": "markdown",
   "metadata": {},
   "source": [
    "### Rnd Forest Classifier"
   ]
  },
  {
   "cell_type": "code",
   "execution_count": 272,
   "metadata": {},
   "outputs": [],
   "source": [
    "clf = RandomForestClassifier(n_estimators=20)    \n",
    "clf=clf.fit(X_train, y_train)"
   ]
  },
  {
   "cell_type": "code",
   "execution_count": 274,
   "metadata": {},
   "outputs": [
    {
     "name": "stdout",
     "output_type": "stream",
     "text": [
      "0.720112517580872\n",
      "[[  0   5  19   2]\n",
      " [  3  60 134   0]\n",
      " [  0  52 828  43]\n",
      " [  0   3 137 136]]\n",
      "              precision    recall  f1-score   support\n",
      "\n",
      "           1       0.00      0.00      0.00        26\n",
      "           2       0.50      0.30      0.38       197\n",
      "           3       0.74      0.90      0.81       923\n",
      "           4       0.75      0.49      0.60       276\n",
      "\n",
      "    accuracy                           0.72      1422\n",
      "   macro avg       0.50      0.42      0.45      1422\n",
      "weighted avg       0.70      0.72      0.69      1422\n",
      "\n"
     ]
    }
   ],
   "source": [
    "print(metrics.accuracy_score(y_test, clf.predict(X_test))) #overall accuracy\n",
    "print(metrics.confusion_matrix(y_test, clf.predict(X_test)))\n",
    "print(metrics.classification_report(y_test, clf.predict(X_test)))"
   ]
  },
  {
   "cell_type": "markdown",
   "metadata": {},
   "source": [
    "This model had an accuracy of 72% which is the highest accuracy I have been able to obtain thus far. "
   ]
  },
  {
   "cell_type": "markdown",
   "metadata": {},
   "source": [
    "#### Important Features"
   ]
  },
  {
   "cell_type": "code",
   "execution_count": 288,
   "metadata": {
    "scrolled": true
   },
   "outputs": [
    {
     "data": {
      "text/html": [
       "<div>\n",
       "<style scoped>\n",
       "    .dataframe tbody tr th:only-of-type {\n",
       "        vertical-align: middle;\n",
       "    }\n",
       "\n",
       "    .dataframe tbody tr th {\n",
       "        vertical-align: top;\n",
       "    }\n",
       "\n",
       "    .dataframe thead th {\n",
       "        text-align: right;\n",
       "    }\n",
       "</style>\n",
       "<table border=\"1\" class=\"dataframe\">\n",
       "  <thead>\n",
       "    <tr style=\"text-align: right;\">\n",
       "      <th></th>\n",
       "      <th>Importance</th>\n",
       "    </tr>\n",
       "  </thead>\n",
       "  <tbody>\n",
       "    <tr>\n",
       "      <td>num_voted_users</td>\n",
       "      <td>0.177675</td>\n",
       "    </tr>\n",
       "    <tr>\n",
       "      <td>duration</td>\n",
       "      <td>0.133068</td>\n",
       "    </tr>\n",
       "    <tr>\n",
       "      <td>title_year</td>\n",
       "      <td>0.111967</td>\n",
       "    </tr>\n",
       "    <tr>\n",
       "      <td>budget</td>\n",
       "      <td>0.107947</td>\n",
       "    </tr>\n",
       "    <tr>\n",
       "      <td>gross</td>\n",
       "      <td>0.106400</td>\n",
       "    </tr>\n",
       "    <tr>\n",
       "      <td>num_critic_for_reviews</td>\n",
       "      <td>0.105426</td>\n",
       "    </tr>\n",
       "    <tr>\n",
       "      <td>actor_1_facebook_likes</td>\n",
       "      <td>0.100984</td>\n",
       "    </tr>\n",
       "    <tr>\n",
       "      <td>director_facebook_likes</td>\n",
       "      <td>0.083663</td>\n",
       "    </tr>\n",
       "    <tr>\n",
       "      <td>movie_facebook_likes</td>\n",
       "      <td>0.072870</td>\n",
       "    </tr>\n",
       "  </tbody>\n",
       "</table>\n",
       "</div>"
      ],
      "text/plain": [
       "                         Importance\n",
       "num_voted_users            0.177675\n",
       "duration                   0.133068\n",
       "title_year                 0.111967\n",
       "budget                     0.107947\n",
       "gross                      0.106400\n",
       "num_critic_for_reviews     0.105426\n",
       "actor_1_facebook_likes     0.100984\n",
       "director_facebook_likes    0.083663\n",
       "movie_facebook_likes       0.072870"
      ]
     },
     "execution_count": 288,
     "metadata": {},
     "output_type": "execute_result"
    }
   ],
   "source": [
    "pd.DataFrame(clf.feature_importances_, index = X.columns,\n",
    "                                    columns=['Importance']).sort_values('Importance', ascending=False)"
   ]
  },
  {
   "cell_type": "markdown",
   "metadata": {},
   "source": [
    "This gives an idea of what attributes hold the most importance in terms of what will add to a higher IMDB score."
   ]
  },
  {
   "cell_type": "markdown",
   "metadata": {},
   "source": [
    "### Clustering"
   ]
  },
  {
   "cell_type": "code",
   "execution_count": 275,
   "metadata": {},
   "outputs": [
    {
     "data": {
      "text/plain": [
       "KMeans(algorithm='auto', copy_x=True, init='k-means++', max_iter=300,\n",
       "       n_clusters=3, n_init=10, n_jobs=None, precompute_distances='auto',\n",
       "       random_state=0, tol=0.0001, verbose=0)"
      ]
     },
     "execution_count": 275,
     "metadata": {},
     "output_type": "execute_result"
    }
   ],
   "source": [
    "k_means = KMeans(init='k-means++', n_clusters=3, random_state=0)\n",
    "k_means.fit(X)"
   ]
  },
  {
   "cell_type": "code",
   "execution_count": 276,
   "metadata": {},
   "outputs": [
    {
     "data": {
      "text/html": [
       "<div>\n",
       "<style scoped>\n",
       "    .dataframe tbody tr th:only-of-type {\n",
       "        vertical-align: middle;\n",
       "    }\n",
       "\n",
       "    .dataframe tbody tr th {\n",
       "        vertical-align: top;\n",
       "    }\n",
       "\n",
       "    .dataframe thead th {\n",
       "        text-align: right;\n",
       "    }\n",
       "</style>\n",
       "<table border=\"1\" class=\"dataframe\">\n",
       "  <thead>\n",
       "    <tr style=\"text-align: right;\">\n",
       "      <th></th>\n",
       "      <th>cluster</th>\n",
       "    </tr>\n",
       "  </thead>\n",
       "  <tbody>\n",
       "    <tr>\n",
       "      <td>0</td>\n",
       "      <td>0</td>\n",
       "    </tr>\n",
       "    <tr>\n",
       "      <td>1</td>\n",
       "      <td>0</td>\n",
       "    </tr>\n",
       "    <tr>\n",
       "      <td>2</td>\n",
       "      <td>0</td>\n",
       "    </tr>\n",
       "    <tr>\n",
       "      <td>3</td>\n",
       "      <td>0</td>\n",
       "    </tr>\n",
       "    <tr>\n",
       "      <td>4</td>\n",
       "      <td>0</td>\n",
       "    </tr>\n",
       "  </tbody>\n",
       "</table>\n",
       "</div>"
      ],
      "text/plain": [
       "   cluster\n",
       "0        0\n",
       "1        0\n",
       "2        0\n",
       "3        0\n",
       "4        0"
      ]
     },
     "execution_count": 276,
     "metadata": {},
     "output_type": "execute_result"
    }
   ],
   "source": [
    "df1 = pd.DataFrame(k_means.labels_, columns = ['cluster'])\n",
    "df1.head()"
   ]
  },
  {
   "cell_type": "code",
   "execution_count": 277,
   "metadata": {},
   "outputs": [
    {
     "data": {
      "text/html": [
       "<div>\n",
       "<style scoped>\n",
       "    .dataframe tbody tr th:only-of-type {\n",
       "        vertical-align: middle;\n",
       "    }\n",
       "\n",
       "    .dataframe tbody tr th {\n",
       "        vertical-align: top;\n",
       "    }\n",
       "\n",
       "    .dataframe thead th {\n",
       "        text-align: right;\n",
       "    }\n",
       "</style>\n",
       "<table border=\"1\" class=\"dataframe\">\n",
       "  <thead>\n",
       "    <tr style=\"text-align: right;\">\n",
       "      <th></th>\n",
       "      <th>color</th>\n",
       "      <th>director_name</th>\n",
       "      <th>num_critic_for_reviews</th>\n",
       "      <th>duration</th>\n",
       "      <th>director_facebook_likes</th>\n",
       "      <th>actor_3_facebook_likes</th>\n",
       "      <th>actor_2_name</th>\n",
       "      <th>actor_1_facebook_likes</th>\n",
       "      <th>gross</th>\n",
       "      <th>genres</th>\n",
       "      <th>...</th>\n",
       "      <th>content_rating</th>\n",
       "      <th>budget</th>\n",
       "      <th>title_year</th>\n",
       "      <th>actor_2_facebook_likes</th>\n",
       "      <th>imdb_score</th>\n",
       "      <th>aspect_ratio</th>\n",
       "      <th>movie_facebook_likes</th>\n",
       "      <th>profit</th>\n",
       "      <th>bins</th>\n",
       "      <th>cluster</th>\n",
       "    </tr>\n",
       "  </thead>\n",
       "  <tbody>\n",
       "    <tr>\n",
       "      <td>0</td>\n",
       "      <td>1</td>\n",
       "      <td>James Cameron</td>\n",
       "      <td>723.0</td>\n",
       "      <td>178.0</td>\n",
       "      <td>0.0</td>\n",
       "      <td>855.0</td>\n",
       "      <td>Joel David Moore</td>\n",
       "      <td>1000.0</td>\n",
       "      <td>760505847.0</td>\n",
       "      <td>Action</td>\n",
       "      <td>...</td>\n",
       "      <td>PG-13</td>\n",
       "      <td>237000000.0</td>\n",
       "      <td>2009.0</td>\n",
       "      <td>936.0</td>\n",
       "      <td>7.9</td>\n",
       "      <td>1.78</td>\n",
       "      <td>33000</td>\n",
       "      <td>523505847.0</td>\n",
       "      <td>4</td>\n",
       "      <td>0</td>\n",
       "    </tr>\n",
       "    <tr>\n",
       "      <td>1</td>\n",
       "      <td>1</td>\n",
       "      <td>Gore Verbinski</td>\n",
       "      <td>302.0</td>\n",
       "      <td>169.0</td>\n",
       "      <td>563.0</td>\n",
       "      <td>1000.0</td>\n",
       "      <td>Orlando Bloom</td>\n",
       "      <td>40000.0</td>\n",
       "      <td>309404152.0</td>\n",
       "      <td>Action</td>\n",
       "      <td>...</td>\n",
       "      <td>PG-13</td>\n",
       "      <td>300000000.0</td>\n",
       "      <td>2007.0</td>\n",
       "      <td>5000.0</td>\n",
       "      <td>7.1</td>\n",
       "      <td>2.35</td>\n",
       "      <td>0</td>\n",
       "      <td>9404152.0</td>\n",
       "      <td>3</td>\n",
       "      <td>0</td>\n",
       "    </tr>\n",
       "    <tr>\n",
       "      <td>2</td>\n",
       "      <td>1</td>\n",
       "      <td>Sam Mendes</td>\n",
       "      <td>602.0</td>\n",
       "      <td>148.0</td>\n",
       "      <td>0.0</td>\n",
       "      <td>161.0</td>\n",
       "      <td>Rory Kinnear</td>\n",
       "      <td>11000.0</td>\n",
       "      <td>200074175.0</td>\n",
       "      <td>Action</td>\n",
       "      <td>...</td>\n",
       "      <td>PG-13</td>\n",
       "      <td>245000000.0</td>\n",
       "      <td>2015.0</td>\n",
       "      <td>393.0</td>\n",
       "      <td>6.8</td>\n",
       "      <td>2.35</td>\n",
       "      <td>85000</td>\n",
       "      <td>-44925825.0</td>\n",
       "      <td>3</td>\n",
       "      <td>0</td>\n",
       "    </tr>\n",
       "    <tr>\n",
       "      <td>3</td>\n",
       "      <td>1</td>\n",
       "      <td>Christopher Nolan</td>\n",
       "      <td>813.0</td>\n",
       "      <td>164.0</td>\n",
       "      <td>22000.0</td>\n",
       "      <td>23000.0</td>\n",
       "      <td>Christian Bale</td>\n",
       "      <td>27000.0</td>\n",
       "      <td>448130642.0</td>\n",
       "      <td>Action</td>\n",
       "      <td>...</td>\n",
       "      <td>PG-13</td>\n",
       "      <td>250000000.0</td>\n",
       "      <td>2012.0</td>\n",
       "      <td>23000.0</td>\n",
       "      <td>8.5</td>\n",
       "      <td>2.35</td>\n",
       "      <td>164000</td>\n",
       "      <td>198130642.0</td>\n",
       "      <td>4</td>\n",
       "      <td>0</td>\n",
       "    </tr>\n",
       "    <tr>\n",
       "      <td>4</td>\n",
       "      <td>1</td>\n",
       "      <td>Andrew Stanton</td>\n",
       "      <td>462.0</td>\n",
       "      <td>132.0</td>\n",
       "      <td>475.0</td>\n",
       "      <td>530.0</td>\n",
       "      <td>Samantha Morton</td>\n",
       "      <td>640.0</td>\n",
       "      <td>73058679.0</td>\n",
       "      <td>Action</td>\n",
       "      <td>...</td>\n",
       "      <td>PG-13</td>\n",
       "      <td>263700000.0</td>\n",
       "      <td>2012.0</td>\n",
       "      <td>632.0</td>\n",
       "      <td>6.6</td>\n",
       "      <td>2.35</td>\n",
       "      <td>24000</td>\n",
       "      <td>-190641321.0</td>\n",
       "      <td>3</td>\n",
       "      <td>0</td>\n",
       "    </tr>\n",
       "  </tbody>\n",
       "</table>\n",
       "<p>5 rows × 31 columns</p>\n",
       "</div>"
      ],
      "text/plain": [
       "   color      director_name  num_critic_for_reviews  duration  \\\n",
       "0      1      James Cameron                   723.0     178.0   \n",
       "1      1     Gore Verbinski                   302.0     169.0   \n",
       "2      1         Sam Mendes                   602.0     148.0   \n",
       "3      1  Christopher Nolan                   813.0     164.0   \n",
       "4      1     Andrew Stanton                   462.0     132.0   \n",
       "\n",
       "   director_facebook_likes  actor_3_facebook_likes      actor_2_name  \\\n",
       "0                      0.0                   855.0  Joel David Moore   \n",
       "1                    563.0                  1000.0     Orlando Bloom   \n",
       "2                      0.0                   161.0      Rory Kinnear   \n",
       "3                  22000.0                 23000.0    Christian Bale   \n",
       "4                    475.0                   530.0   Samantha Morton   \n",
       "\n",
       "   actor_1_facebook_likes        gross  genres  ... content_rating  \\\n",
       "0                  1000.0  760505847.0  Action  ...          PG-13   \n",
       "1                 40000.0  309404152.0  Action  ...          PG-13   \n",
       "2                 11000.0  200074175.0  Action  ...          PG-13   \n",
       "3                 27000.0  448130642.0  Action  ...          PG-13   \n",
       "4                   640.0   73058679.0  Action  ...          PG-13   \n",
       "\n",
       "        budget  title_year  actor_2_facebook_likes imdb_score aspect_ratio  \\\n",
       "0  237000000.0      2009.0                   936.0        7.9         1.78   \n",
       "1  300000000.0      2007.0                  5000.0        7.1         2.35   \n",
       "2  245000000.0      2015.0                   393.0        6.8         2.35   \n",
       "3  250000000.0      2012.0                 23000.0        8.5         2.35   \n",
       "4  263700000.0      2012.0                   632.0        6.6         2.35   \n",
       "\n",
       "  movie_facebook_likes       profit bins cluster  \n",
       "0                33000  523505847.0    4       0  \n",
       "1                    0    9404152.0    3       0  \n",
       "2                85000  -44925825.0    3       0  \n",
       "3               164000  198130642.0    4       0  \n",
       "4                24000 -190641321.0    3       0  \n",
       "\n",
       "[5 rows x 31 columns]"
      ]
     },
     "execution_count": 277,
     "metadata": {},
     "output_type": "execute_result"
    }
   ],
   "source": [
    "df = df.reset_index(drop=True)\n",
    "df1 = df1.reset_index(drop=True)\n",
    "\n",
    "df2 = df.join(df1)\n",
    "df2.head()"
   ]
  },
  {
   "cell_type": "code",
   "execution_count": 278,
   "metadata": {},
   "outputs": [
    {
     "data": {
      "text/html": [
       "<div>\n",
       "<style scoped>\n",
       "    .dataframe tbody tr th:only-of-type {\n",
       "        vertical-align: middle;\n",
       "    }\n",
       "\n",
       "    .dataframe tbody tr th {\n",
       "        vertical-align: top;\n",
       "    }\n",
       "\n",
       "    .dataframe thead th {\n",
       "        text-align: right;\n",
       "    }\n",
       "</style>\n",
       "<table border=\"1\" class=\"dataframe\">\n",
       "  <thead>\n",
       "    <tr style=\"text-align: right;\">\n",
       "      <th></th>\n",
       "      <th>color</th>\n",
       "      <th>num_critic_for_reviews</th>\n",
       "      <th>duration</th>\n",
       "      <th>director_facebook_likes</th>\n",
       "      <th>actor_3_facebook_likes</th>\n",
       "      <th>actor_1_facebook_likes</th>\n",
       "      <th>gross</th>\n",
       "      <th>num_voted_users</th>\n",
       "      <th>cast_total_facebook_likes</th>\n",
       "      <th>budget</th>\n",
       "      <th>title_year</th>\n",
       "      <th>actor_2_facebook_likes</th>\n",
       "      <th>imdb_score</th>\n",
       "      <th>movie_facebook_likes</th>\n",
       "      <th>profit</th>\n",
       "    </tr>\n",
       "    <tr>\n",
       "      <th>cluster</th>\n",
       "      <th></th>\n",
       "      <th></th>\n",
       "      <th></th>\n",
       "      <th></th>\n",
       "      <th></th>\n",
       "      <th></th>\n",
       "      <th></th>\n",
       "      <th></th>\n",
       "      <th></th>\n",
       "      <th></th>\n",
       "      <th></th>\n",
       "      <th></th>\n",
       "      <th></th>\n",
       "      <th></th>\n",
       "      <th></th>\n",
       "    </tr>\n",
       "  </thead>\n",
       "  <tbody>\n",
       "    <tr>\n",
       "      <td>0</td>\n",
       "      <td>0.957532</td>\n",
       "      <td>145.607583</td>\n",
       "      <td>108.530167</td>\n",
       "      <td>704.623917</td>\n",
       "      <td>659.784914</td>\n",
       "      <td>6792.227974</td>\n",
       "      <td>4.889186e+07</td>\n",
       "      <td>87333.380097</td>\n",
       "      <td>10036.95394</td>\n",
       "      <td>3.573198e+07</td>\n",
       "      <td>2002.175364</td>\n",
       "      <td>1711.214663</td>\n",
       "      <td>6.427403</td>\n",
       "      <td>7777.825481</td>\n",
       "      <td>1.315988e+07</td>\n",
       "    </tr>\n",
       "    <tr>\n",
       "      <td>1</td>\n",
       "      <td>1.000000</td>\n",
       "      <td>363.000000</td>\n",
       "      <td>110.000000</td>\n",
       "      <td>584.000000</td>\n",
       "      <td>74.000000</td>\n",
       "      <td>629.000000</td>\n",
       "      <td>2.201412e+06</td>\n",
       "      <td>68883.000000</td>\n",
       "      <td>1173.00000</td>\n",
       "      <td>1.221550e+10</td>\n",
       "      <td>2006.000000</td>\n",
       "      <td>398.000000</td>\n",
       "      <td>7.000000</td>\n",
       "      <td>7000.000000</td>\n",
       "      <td>-1.221330e+10</td>\n",
       "    </tr>\n",
       "    <tr>\n",
       "      <td>2</td>\n",
       "      <td>1.000000</td>\n",
       "      <td>138.500000</td>\n",
       "      <td>120.750000</td>\n",
       "      <td>1530.750000</td>\n",
       "      <td>221.000000</td>\n",
       "      <td>526.750000</td>\n",
       "      <td>7.790335e+05</td>\n",
       "      <td>73597.500000</td>\n",
       "      <td>1154.75000</td>\n",
       "      <td>2.806880e+09</td>\n",
       "      <td>2002.750000</td>\n",
       "      <td>328.750000</td>\n",
       "      <td>7.525000</td>\n",
       "      <td>4145.000000</td>\n",
       "      <td>-2.806101e+09</td>\n",
       "    </tr>\n",
       "  </tbody>\n",
       "</table>\n",
       "</div>"
      ],
      "text/plain": [
       "            color  num_critic_for_reviews    duration  \\\n",
       "cluster                                                 \n",
       "0        0.957532              145.607583  108.530167   \n",
       "1        1.000000              363.000000  110.000000   \n",
       "2        1.000000              138.500000  120.750000   \n",
       "\n",
       "         director_facebook_likes  actor_3_facebook_likes  \\\n",
       "cluster                                                    \n",
       "0                     704.623917              659.784914   \n",
       "1                     584.000000               74.000000   \n",
       "2                    1530.750000              221.000000   \n",
       "\n",
       "         actor_1_facebook_likes         gross  num_voted_users  \\\n",
       "cluster                                                          \n",
       "0                   6792.227974  4.889186e+07     87333.380097   \n",
       "1                    629.000000  2.201412e+06     68883.000000   \n",
       "2                    526.750000  7.790335e+05     73597.500000   \n",
       "\n",
       "         cast_total_facebook_likes        budget   title_year  \\\n",
       "cluster                                                         \n",
       "0                      10036.95394  3.573198e+07  2002.175364   \n",
       "1                       1173.00000  1.221550e+10  2006.000000   \n",
       "2                       1154.75000  2.806880e+09  2002.750000   \n",
       "\n",
       "         actor_2_facebook_likes  imdb_score  movie_facebook_likes  \\\n",
       "cluster                                                             \n",
       "0                   1711.214663    6.427403           7777.825481   \n",
       "1                    398.000000    7.000000           7000.000000   \n",
       "2                    328.750000    7.525000           4145.000000   \n",
       "\n",
       "               profit  \n",
       "cluster                \n",
       "0        1.315988e+07  \n",
       "1       -1.221330e+10  \n",
       "2       -2.806101e+09  "
      ]
     },
     "execution_count": 278,
     "metadata": {},
     "output_type": "execute_result"
    }
   ],
   "source": [
    "df2.groupby('cluster').mean()"
   ]
  },
  {
   "cell_type": "code",
   "execution_count": 279,
   "metadata": {},
   "outputs": [
    {
     "data": {
      "text/plain": [
       "cluster\n",
       "0    4733\n",
       "1       1\n",
       "2       4\n",
       "dtype: int64"
      ]
     },
     "execution_count": 279,
     "metadata": {},
     "output_type": "execute_result"
    }
   ],
   "source": [
    "df2.groupby(['cluster']).size()"
   ]
  },
  {
   "cell_type": "code",
   "execution_count": 280,
   "metadata": {},
   "outputs": [
    {
     "data": {
      "text/plain": [
       "cluster\n",
       "0    6.427403\n",
       "1    7.000000\n",
       "2    7.525000\n",
       "Name: imdb_score, dtype: float64"
      ]
     },
     "execution_count": 280,
     "metadata": {},
     "output_type": "execute_result"
    }
   ],
   "source": [
    "df2.groupby('cluster')['imdb_score'].mean()"
   ]
  },
  {
   "cell_type": "markdown",
   "metadata": {},
   "source": [
    "This approach was unsuccessful as almost all of the entries were assigned to cluster 1. Because of this, I am going to use the Agglomerative Clustering to hopefully get better analysis."
   ]
  },
  {
   "cell_type": "code",
   "execution_count": 281,
   "metadata": {},
   "outputs": [
    {
     "data": {
      "text/plain": [
       "array([0, 0, 0, ..., 1, 1, 1])"
      ]
     },
     "execution_count": 281,
     "metadata": {},
     "output_type": "execute_result"
    }
   ],
   "source": [
    "agg= AgglomerativeClustering(n_clusters=4, linkage='ward').fit(X)\n",
    "agg.labels_"
   ]
  },
  {
   "cell_type": "code",
   "execution_count": 282,
   "metadata": {},
   "outputs": [
    {
     "data": {
      "text/html": [
       "<div>\n",
       "<style scoped>\n",
       "    .dataframe tbody tr th:only-of-type {\n",
       "        vertical-align: middle;\n",
       "    }\n",
       "\n",
       "    .dataframe tbody tr th {\n",
       "        vertical-align: top;\n",
       "    }\n",
       "\n",
       "    .dataframe thead th {\n",
       "        text-align: right;\n",
       "    }\n",
       "</style>\n",
       "<table border=\"1\" class=\"dataframe\">\n",
       "  <thead>\n",
       "    <tr style=\"text-align: right;\">\n",
       "      <th></th>\n",
       "      <th>cluster</th>\n",
       "    </tr>\n",
       "  </thead>\n",
       "  <tbody>\n",
       "    <tr>\n",
       "      <td>0</td>\n",
       "      <td>0</td>\n",
       "    </tr>\n",
       "    <tr>\n",
       "      <td>1</td>\n",
       "      <td>0</td>\n",
       "    </tr>\n",
       "    <tr>\n",
       "      <td>2</td>\n",
       "      <td>0</td>\n",
       "    </tr>\n",
       "    <tr>\n",
       "      <td>3</td>\n",
       "      <td>0</td>\n",
       "    </tr>\n",
       "    <tr>\n",
       "      <td>4</td>\n",
       "      <td>0</td>\n",
       "    </tr>\n",
       "  </tbody>\n",
       "</table>\n",
       "</div>"
      ],
      "text/plain": [
       "   cluster\n",
       "0        0\n",
       "1        0\n",
       "2        0\n",
       "3        0\n",
       "4        0"
      ]
     },
     "execution_count": 282,
     "metadata": {},
     "output_type": "execute_result"
    }
   ],
   "source": [
    "df1 = pd.DataFrame(agg.labels_, columns = ['cluster'])\n",
    "df1.head()"
   ]
  },
  {
   "cell_type": "code",
   "execution_count": 283,
   "metadata": {},
   "outputs": [
    {
     "data": {
      "text/html": [
       "<div>\n",
       "<style scoped>\n",
       "    .dataframe tbody tr th:only-of-type {\n",
       "        vertical-align: middle;\n",
       "    }\n",
       "\n",
       "    .dataframe tbody tr th {\n",
       "        vertical-align: top;\n",
       "    }\n",
       "\n",
       "    .dataframe thead th {\n",
       "        text-align: right;\n",
       "    }\n",
       "</style>\n",
       "<table border=\"1\" class=\"dataframe\">\n",
       "  <thead>\n",
       "    <tr style=\"text-align: right;\">\n",
       "      <th></th>\n",
       "      <th>color</th>\n",
       "      <th>director_name</th>\n",
       "      <th>num_critic_for_reviews</th>\n",
       "      <th>duration</th>\n",
       "      <th>director_facebook_likes</th>\n",
       "      <th>actor_3_facebook_likes</th>\n",
       "      <th>actor_2_name</th>\n",
       "      <th>actor_1_facebook_likes</th>\n",
       "      <th>gross</th>\n",
       "      <th>genres</th>\n",
       "      <th>...</th>\n",
       "      <th>content_rating</th>\n",
       "      <th>budget</th>\n",
       "      <th>title_year</th>\n",
       "      <th>actor_2_facebook_likes</th>\n",
       "      <th>imdb_score</th>\n",
       "      <th>aspect_ratio</th>\n",
       "      <th>movie_facebook_likes</th>\n",
       "      <th>profit</th>\n",
       "      <th>bins</th>\n",
       "      <th>cluster</th>\n",
       "    </tr>\n",
       "  </thead>\n",
       "  <tbody>\n",
       "    <tr>\n",
       "      <td>0</td>\n",
       "      <td>1</td>\n",
       "      <td>James Cameron</td>\n",
       "      <td>723.0</td>\n",
       "      <td>178.0</td>\n",
       "      <td>0.0</td>\n",
       "      <td>855.0</td>\n",
       "      <td>Joel David Moore</td>\n",
       "      <td>1000.0</td>\n",
       "      <td>760505847.0</td>\n",
       "      <td>Action</td>\n",
       "      <td>...</td>\n",
       "      <td>PG-13</td>\n",
       "      <td>237000000.0</td>\n",
       "      <td>2009.0</td>\n",
       "      <td>936.0</td>\n",
       "      <td>7.9</td>\n",
       "      <td>1.78</td>\n",
       "      <td>33000</td>\n",
       "      <td>523505847.0</td>\n",
       "      <td>4</td>\n",
       "      <td>0</td>\n",
       "    </tr>\n",
       "    <tr>\n",
       "      <td>1</td>\n",
       "      <td>1</td>\n",
       "      <td>Gore Verbinski</td>\n",
       "      <td>302.0</td>\n",
       "      <td>169.0</td>\n",
       "      <td>563.0</td>\n",
       "      <td>1000.0</td>\n",
       "      <td>Orlando Bloom</td>\n",
       "      <td>40000.0</td>\n",
       "      <td>309404152.0</td>\n",
       "      <td>Action</td>\n",
       "      <td>...</td>\n",
       "      <td>PG-13</td>\n",
       "      <td>300000000.0</td>\n",
       "      <td>2007.0</td>\n",
       "      <td>5000.0</td>\n",
       "      <td>7.1</td>\n",
       "      <td>2.35</td>\n",
       "      <td>0</td>\n",
       "      <td>9404152.0</td>\n",
       "      <td>3</td>\n",
       "      <td>0</td>\n",
       "    </tr>\n",
       "    <tr>\n",
       "      <td>2</td>\n",
       "      <td>1</td>\n",
       "      <td>Sam Mendes</td>\n",
       "      <td>602.0</td>\n",
       "      <td>148.0</td>\n",
       "      <td>0.0</td>\n",
       "      <td>161.0</td>\n",
       "      <td>Rory Kinnear</td>\n",
       "      <td>11000.0</td>\n",
       "      <td>200074175.0</td>\n",
       "      <td>Action</td>\n",
       "      <td>...</td>\n",
       "      <td>PG-13</td>\n",
       "      <td>245000000.0</td>\n",
       "      <td>2015.0</td>\n",
       "      <td>393.0</td>\n",
       "      <td>6.8</td>\n",
       "      <td>2.35</td>\n",
       "      <td>85000</td>\n",
       "      <td>-44925825.0</td>\n",
       "      <td>3</td>\n",
       "      <td>0</td>\n",
       "    </tr>\n",
       "    <tr>\n",
       "      <td>3</td>\n",
       "      <td>1</td>\n",
       "      <td>Christopher Nolan</td>\n",
       "      <td>813.0</td>\n",
       "      <td>164.0</td>\n",
       "      <td>22000.0</td>\n",
       "      <td>23000.0</td>\n",
       "      <td>Christian Bale</td>\n",
       "      <td>27000.0</td>\n",
       "      <td>448130642.0</td>\n",
       "      <td>Action</td>\n",
       "      <td>...</td>\n",
       "      <td>PG-13</td>\n",
       "      <td>250000000.0</td>\n",
       "      <td>2012.0</td>\n",
       "      <td>23000.0</td>\n",
       "      <td>8.5</td>\n",
       "      <td>2.35</td>\n",
       "      <td>164000</td>\n",
       "      <td>198130642.0</td>\n",
       "      <td>4</td>\n",
       "      <td>0</td>\n",
       "    </tr>\n",
       "    <tr>\n",
       "      <td>4</td>\n",
       "      <td>1</td>\n",
       "      <td>Andrew Stanton</td>\n",
       "      <td>462.0</td>\n",
       "      <td>132.0</td>\n",
       "      <td>475.0</td>\n",
       "      <td>530.0</td>\n",
       "      <td>Samantha Morton</td>\n",
       "      <td>640.0</td>\n",
       "      <td>73058679.0</td>\n",
       "      <td>Action</td>\n",
       "      <td>...</td>\n",
       "      <td>PG-13</td>\n",
       "      <td>263700000.0</td>\n",
       "      <td>2012.0</td>\n",
       "      <td>632.0</td>\n",
       "      <td>6.6</td>\n",
       "      <td>2.35</td>\n",
       "      <td>24000</td>\n",
       "      <td>-190641321.0</td>\n",
       "      <td>3</td>\n",
       "      <td>0</td>\n",
       "    </tr>\n",
       "  </tbody>\n",
       "</table>\n",
       "<p>5 rows × 31 columns</p>\n",
       "</div>"
      ],
      "text/plain": [
       "   color      director_name  num_critic_for_reviews  duration  \\\n",
       "0      1      James Cameron                   723.0     178.0   \n",
       "1      1     Gore Verbinski                   302.0     169.0   \n",
       "2      1         Sam Mendes                   602.0     148.0   \n",
       "3      1  Christopher Nolan                   813.0     164.0   \n",
       "4      1     Andrew Stanton                   462.0     132.0   \n",
       "\n",
       "   director_facebook_likes  actor_3_facebook_likes      actor_2_name  \\\n",
       "0                      0.0                   855.0  Joel David Moore   \n",
       "1                    563.0                  1000.0     Orlando Bloom   \n",
       "2                      0.0                   161.0      Rory Kinnear   \n",
       "3                  22000.0                 23000.0    Christian Bale   \n",
       "4                    475.0                   530.0   Samantha Morton   \n",
       "\n",
       "   actor_1_facebook_likes        gross  genres  ... content_rating  \\\n",
       "0                  1000.0  760505847.0  Action  ...          PG-13   \n",
       "1                 40000.0  309404152.0  Action  ...          PG-13   \n",
       "2                 11000.0  200074175.0  Action  ...          PG-13   \n",
       "3                 27000.0  448130642.0  Action  ...          PG-13   \n",
       "4                   640.0   73058679.0  Action  ...          PG-13   \n",
       "\n",
       "        budget  title_year  actor_2_facebook_likes imdb_score aspect_ratio  \\\n",
       "0  237000000.0      2009.0                   936.0        7.9         1.78   \n",
       "1  300000000.0      2007.0                  5000.0        7.1         2.35   \n",
       "2  245000000.0      2015.0                   393.0        6.8         2.35   \n",
       "3  250000000.0      2012.0                 23000.0        8.5         2.35   \n",
       "4  263700000.0      2012.0                   632.0        6.6         2.35   \n",
       "\n",
       "  movie_facebook_likes       profit bins cluster  \n",
       "0                33000  523505847.0    4       0  \n",
       "1                    0    9404152.0    3       0  \n",
       "2                85000  -44925825.0    3       0  \n",
       "3               164000  198130642.0    4       0  \n",
       "4                24000 -190641321.0    3       0  \n",
       "\n",
       "[5 rows x 31 columns]"
      ]
     },
     "execution_count": 283,
     "metadata": {},
     "output_type": "execute_result"
    }
   ],
   "source": [
    "df2 = df.join(df1)\n",
    "df2.head()"
   ]
  },
  {
   "cell_type": "code",
   "execution_count": 284,
   "metadata": {},
   "outputs": [
    {
     "data": {
      "text/html": [
       "<div>\n",
       "<style scoped>\n",
       "    .dataframe tbody tr th:only-of-type {\n",
       "        vertical-align: middle;\n",
       "    }\n",
       "\n",
       "    .dataframe tbody tr th {\n",
       "        vertical-align: top;\n",
       "    }\n",
       "\n",
       "    .dataframe thead th {\n",
       "        text-align: right;\n",
       "    }\n",
       "</style>\n",
       "<table border=\"1\" class=\"dataframe\">\n",
       "  <thead>\n",
       "    <tr style=\"text-align: right;\">\n",
       "      <th></th>\n",
       "      <th>color</th>\n",
       "      <th>director_name</th>\n",
       "      <th>num_critic_for_reviews</th>\n",
       "      <th>duration</th>\n",
       "      <th>director_facebook_likes</th>\n",
       "      <th>actor_3_facebook_likes</th>\n",
       "      <th>actor_2_name</th>\n",
       "      <th>actor_1_facebook_likes</th>\n",
       "      <th>gross</th>\n",
       "      <th>genres</th>\n",
       "      <th>...</th>\n",
       "      <th>content_rating</th>\n",
       "      <th>budget</th>\n",
       "      <th>title_year</th>\n",
       "      <th>actor_2_facebook_likes</th>\n",
       "      <th>imdb_score</th>\n",
       "      <th>aspect_ratio</th>\n",
       "      <th>movie_facebook_likes</th>\n",
       "      <th>profit</th>\n",
       "      <th>bins</th>\n",
       "      <th>cluster</th>\n",
       "    </tr>\n",
       "  </thead>\n",
       "  <tbody>\n",
       "    <tr>\n",
       "      <td>0</td>\n",
       "      <td>1</td>\n",
       "      <td>James Cameron</td>\n",
       "      <td>723.0</td>\n",
       "      <td>178.0</td>\n",
       "      <td>0.0</td>\n",
       "      <td>855.0</td>\n",
       "      <td>Joel David Moore</td>\n",
       "      <td>1000.0</td>\n",
       "      <td>760505847.0</td>\n",
       "      <td>Action</td>\n",
       "      <td>...</td>\n",
       "      <td>PG-13</td>\n",
       "      <td>237000000.0</td>\n",
       "      <td>2009.0</td>\n",
       "      <td>936.0</td>\n",
       "      <td>7.9</td>\n",
       "      <td>1.78</td>\n",
       "      <td>33000</td>\n",
       "      <td>523505847.0</td>\n",
       "      <td>4</td>\n",
       "      <td>0</td>\n",
       "    </tr>\n",
       "    <tr>\n",
       "      <td>1</td>\n",
       "      <td>1</td>\n",
       "      <td>Gore Verbinski</td>\n",
       "      <td>302.0</td>\n",
       "      <td>169.0</td>\n",
       "      <td>563.0</td>\n",
       "      <td>1000.0</td>\n",
       "      <td>Orlando Bloom</td>\n",
       "      <td>40000.0</td>\n",
       "      <td>309404152.0</td>\n",
       "      <td>Action</td>\n",
       "      <td>...</td>\n",
       "      <td>PG-13</td>\n",
       "      <td>300000000.0</td>\n",
       "      <td>2007.0</td>\n",
       "      <td>5000.0</td>\n",
       "      <td>7.1</td>\n",
       "      <td>2.35</td>\n",
       "      <td>0</td>\n",
       "      <td>9404152.0</td>\n",
       "      <td>3</td>\n",
       "      <td>0</td>\n",
       "    </tr>\n",
       "    <tr>\n",
       "      <td>2</td>\n",
       "      <td>1</td>\n",
       "      <td>Sam Mendes</td>\n",
       "      <td>602.0</td>\n",
       "      <td>148.0</td>\n",
       "      <td>0.0</td>\n",
       "      <td>161.0</td>\n",
       "      <td>Rory Kinnear</td>\n",
       "      <td>11000.0</td>\n",
       "      <td>200074175.0</td>\n",
       "      <td>Action</td>\n",
       "      <td>...</td>\n",
       "      <td>PG-13</td>\n",
       "      <td>245000000.0</td>\n",
       "      <td>2015.0</td>\n",
       "      <td>393.0</td>\n",
       "      <td>6.8</td>\n",
       "      <td>2.35</td>\n",
       "      <td>85000</td>\n",
       "      <td>-44925825.0</td>\n",
       "      <td>3</td>\n",
       "      <td>0</td>\n",
       "    </tr>\n",
       "    <tr>\n",
       "      <td>3</td>\n",
       "      <td>1</td>\n",
       "      <td>Christopher Nolan</td>\n",
       "      <td>813.0</td>\n",
       "      <td>164.0</td>\n",
       "      <td>22000.0</td>\n",
       "      <td>23000.0</td>\n",
       "      <td>Christian Bale</td>\n",
       "      <td>27000.0</td>\n",
       "      <td>448130642.0</td>\n",
       "      <td>Action</td>\n",
       "      <td>...</td>\n",
       "      <td>PG-13</td>\n",
       "      <td>250000000.0</td>\n",
       "      <td>2012.0</td>\n",
       "      <td>23000.0</td>\n",
       "      <td>8.5</td>\n",
       "      <td>2.35</td>\n",
       "      <td>164000</td>\n",
       "      <td>198130642.0</td>\n",
       "      <td>4</td>\n",
       "      <td>0</td>\n",
       "    </tr>\n",
       "    <tr>\n",
       "      <td>4</td>\n",
       "      <td>1</td>\n",
       "      <td>Andrew Stanton</td>\n",
       "      <td>462.0</td>\n",
       "      <td>132.0</td>\n",
       "      <td>475.0</td>\n",
       "      <td>530.0</td>\n",
       "      <td>Samantha Morton</td>\n",
       "      <td>640.0</td>\n",
       "      <td>73058679.0</td>\n",
       "      <td>Action</td>\n",
       "      <td>...</td>\n",
       "      <td>PG-13</td>\n",
       "      <td>263700000.0</td>\n",
       "      <td>2012.0</td>\n",
       "      <td>632.0</td>\n",
       "      <td>6.6</td>\n",
       "      <td>2.35</td>\n",
       "      <td>24000</td>\n",
       "      <td>-190641321.0</td>\n",
       "      <td>3</td>\n",
       "      <td>0</td>\n",
       "    </tr>\n",
       "  </tbody>\n",
       "</table>\n",
       "<p>5 rows × 31 columns</p>\n",
       "</div>"
      ],
      "text/plain": [
       "   color      director_name  num_critic_for_reviews  duration  \\\n",
       "0      1      James Cameron                   723.0     178.0   \n",
       "1      1     Gore Verbinski                   302.0     169.0   \n",
       "2      1         Sam Mendes                   602.0     148.0   \n",
       "3      1  Christopher Nolan                   813.0     164.0   \n",
       "4      1     Andrew Stanton                   462.0     132.0   \n",
       "\n",
       "   director_facebook_likes  actor_3_facebook_likes      actor_2_name  \\\n",
       "0                      0.0                   855.0  Joel David Moore   \n",
       "1                    563.0                  1000.0     Orlando Bloom   \n",
       "2                      0.0                   161.0      Rory Kinnear   \n",
       "3                  22000.0                 23000.0    Christian Bale   \n",
       "4                    475.0                   530.0   Samantha Morton   \n",
       "\n",
       "   actor_1_facebook_likes        gross  genres  ... content_rating  \\\n",
       "0                  1000.0  760505847.0  Action  ...          PG-13   \n",
       "1                 40000.0  309404152.0  Action  ...          PG-13   \n",
       "2                 11000.0  200074175.0  Action  ...          PG-13   \n",
       "3                 27000.0  448130642.0  Action  ...          PG-13   \n",
       "4                   640.0   73058679.0  Action  ...          PG-13   \n",
       "\n",
       "        budget  title_year  actor_2_facebook_likes imdb_score aspect_ratio  \\\n",
       "0  237000000.0      2009.0                   936.0        7.9         1.78   \n",
       "1  300000000.0      2007.0                  5000.0        7.1         2.35   \n",
       "2  245000000.0      2015.0                   393.0        6.8         2.35   \n",
       "3  250000000.0      2012.0                 23000.0        8.5         2.35   \n",
       "4  263700000.0      2012.0                   632.0        6.6         2.35   \n",
       "\n",
       "  movie_facebook_likes       profit bins cluster  \n",
       "0                33000  523505847.0    4       0  \n",
       "1                    0    9404152.0    3       0  \n",
       "2                85000  -44925825.0    3       0  \n",
       "3               164000  198130642.0    4       0  \n",
       "4                24000 -190641321.0    3       0  \n",
       "\n",
       "[5 rows x 31 columns]"
      ]
     },
     "execution_count": 284,
     "metadata": {},
     "output_type": "execute_result"
    }
   ],
   "source": [
    "df2 = df.join(df1)\n",
    "df2.head()"
   ]
  },
  {
   "cell_type": "code",
   "execution_count": 285,
   "metadata": {},
   "outputs": [
    {
     "data": {
      "text/html": [
       "<div>\n",
       "<style scoped>\n",
       "    .dataframe tbody tr th:only-of-type {\n",
       "        vertical-align: middle;\n",
       "    }\n",
       "\n",
       "    .dataframe tbody tr th {\n",
       "        vertical-align: top;\n",
       "    }\n",
       "\n",
       "    .dataframe thead th {\n",
       "        text-align: right;\n",
       "    }\n",
       "</style>\n",
       "<table border=\"1\" class=\"dataframe\">\n",
       "  <thead>\n",
       "    <tr style=\"text-align: right;\">\n",
       "      <th></th>\n",
       "      <th>color</th>\n",
       "      <th>num_critic_for_reviews</th>\n",
       "      <th>duration</th>\n",
       "      <th>director_facebook_likes</th>\n",
       "      <th>actor_3_facebook_likes</th>\n",
       "      <th>actor_1_facebook_likes</th>\n",
       "      <th>gross</th>\n",
       "      <th>num_voted_users</th>\n",
       "      <th>cast_total_facebook_likes</th>\n",
       "      <th>budget</th>\n",
       "      <th>title_year</th>\n",
       "      <th>actor_2_facebook_likes</th>\n",
       "      <th>imdb_score</th>\n",
       "      <th>movie_facebook_likes</th>\n",
       "      <th>profit</th>\n",
       "    </tr>\n",
       "    <tr>\n",
       "      <th>cluster</th>\n",
       "      <th></th>\n",
       "      <th></th>\n",
       "      <th></th>\n",
       "      <th></th>\n",
       "      <th></th>\n",
       "      <th></th>\n",
       "      <th></th>\n",
       "      <th></th>\n",
       "      <th></th>\n",
       "      <th></th>\n",
       "      <th></th>\n",
       "      <th></th>\n",
       "      <th></th>\n",
       "      <th></th>\n",
       "      <th></th>\n",
       "    </tr>\n",
       "  </thead>\n",
       "  <tbody>\n",
       "    <tr>\n",
       "      <td>0</td>\n",
       "      <td>0.978578</td>\n",
       "      <td>237.869523</td>\n",
       "      <td>118.265823</td>\n",
       "      <td>1391.969815</td>\n",
       "      <td>1338.787731</td>\n",
       "      <td>10761.546251</td>\n",
       "      <td>1.319401e+08</td>\n",
       "      <td>212897.655307</td>\n",
       "      <td>16876.073028</td>\n",
       "      <td>8.986482e+07</td>\n",
       "      <td>2004.255112</td>\n",
       "      <td>3334.777020</td>\n",
       "      <td>6.690652</td>\n",
       "      <td>18408.181110</td>\n",
       "      <td>4.207529e+07</td>\n",
       "    </tr>\n",
       "    <tr>\n",
       "      <td>1</td>\n",
       "      <td>0.951700</td>\n",
       "      <td>120.040122</td>\n",
       "      <td>105.832240</td>\n",
       "      <td>514.147868</td>\n",
       "      <td>471.620885</td>\n",
       "      <td>5692.257690</td>\n",
       "      <td>2.587768e+07</td>\n",
       "      <td>52537.235834</td>\n",
       "      <td>8141.709660</td>\n",
       "      <td>2.073078e+07</td>\n",
       "      <td>2001.599029</td>\n",
       "      <td>1261.296006</td>\n",
       "      <td>6.354452</td>\n",
       "      <td>4831.960604</td>\n",
       "      <td>5.146899e+06</td>\n",
       "    </tr>\n",
       "    <tr>\n",
       "      <td>2</td>\n",
       "      <td>1.000000</td>\n",
       "      <td>138.500000</td>\n",
       "      <td>120.750000</td>\n",
       "      <td>1530.750000</td>\n",
       "      <td>221.000000</td>\n",
       "      <td>526.750000</td>\n",
       "      <td>7.790335e+05</td>\n",
       "      <td>73597.500000</td>\n",
       "      <td>1154.750000</td>\n",
       "      <td>2.806880e+09</td>\n",
       "      <td>2002.750000</td>\n",
       "      <td>328.750000</td>\n",
       "      <td>7.525000</td>\n",
       "      <td>4145.000000</td>\n",
       "      <td>-2.806101e+09</td>\n",
       "    </tr>\n",
       "    <tr>\n",
       "      <td>3</td>\n",
       "      <td>1.000000</td>\n",
       "      <td>363.000000</td>\n",
       "      <td>110.000000</td>\n",
       "      <td>584.000000</td>\n",
       "      <td>74.000000</td>\n",
       "      <td>629.000000</td>\n",
       "      <td>2.201412e+06</td>\n",
       "      <td>68883.000000</td>\n",
       "      <td>1173.000000</td>\n",
       "      <td>1.221550e+10</td>\n",
       "      <td>2006.000000</td>\n",
       "      <td>398.000000</td>\n",
       "      <td>7.000000</td>\n",
       "      <td>7000.000000</td>\n",
       "      <td>-1.221330e+10</td>\n",
       "    </tr>\n",
       "  </tbody>\n",
       "</table>\n",
       "</div>"
      ],
      "text/plain": [
       "            color  num_critic_for_reviews    duration  \\\n",
       "cluster                                                 \n",
       "0        0.978578              237.869523  118.265823   \n",
       "1        0.951700              120.040122  105.832240   \n",
       "2        1.000000              138.500000  120.750000   \n",
       "3        1.000000              363.000000  110.000000   \n",
       "\n",
       "         director_facebook_likes  actor_3_facebook_likes  \\\n",
       "cluster                                                    \n",
       "0                    1391.969815             1338.787731   \n",
       "1                     514.147868              471.620885   \n",
       "2                    1530.750000              221.000000   \n",
       "3                     584.000000               74.000000   \n",
       "\n",
       "         actor_1_facebook_likes         gross  num_voted_users  \\\n",
       "cluster                                                          \n",
       "0                  10761.546251  1.319401e+08    212897.655307   \n",
       "1                   5692.257690  2.587768e+07     52537.235834   \n",
       "2                    526.750000  7.790335e+05     73597.500000   \n",
       "3                    629.000000  2.201412e+06     68883.000000   \n",
       "\n",
       "         cast_total_facebook_likes        budget   title_year  \\\n",
       "cluster                                                         \n",
       "0                     16876.073028  8.986482e+07  2004.255112   \n",
       "1                      8141.709660  2.073078e+07  2001.599029   \n",
       "2                      1154.750000  2.806880e+09  2002.750000   \n",
       "3                      1173.000000  1.221550e+10  2006.000000   \n",
       "\n",
       "         actor_2_facebook_likes  imdb_score  movie_facebook_likes  \\\n",
       "cluster                                                             \n",
       "0                   3334.777020    6.690652          18408.181110   \n",
       "1                   1261.296006    6.354452           4831.960604   \n",
       "2                    328.750000    7.525000           4145.000000   \n",
       "3                    398.000000    7.000000           7000.000000   \n",
       "\n",
       "               profit  \n",
       "cluster                \n",
       "0        4.207529e+07  \n",
       "1        5.146899e+06  \n",
       "2       -2.806101e+09  \n",
       "3       -1.221330e+10  "
      ]
     },
     "execution_count": 285,
     "metadata": {},
     "output_type": "execute_result"
    }
   ],
   "source": [
    "df2.groupby('cluster').mean()"
   ]
  },
  {
   "cell_type": "code",
   "execution_count": 286,
   "metadata": {},
   "outputs": [
    {
     "data": {
      "text/plain": [
       "cluster\n",
       "0    6.690652\n",
       "1    6.354452\n",
       "2    7.525000\n",
       "3    7.000000\n",
       "Name: imdb_score, dtype: float64"
      ]
     },
     "execution_count": 286,
     "metadata": {},
     "output_type": "execute_result"
    }
   ],
   "source": [
    "df2.groupby('cluster')['imdb_score'].mean()"
   ]
  },
  {
   "cell_type": "code",
   "execution_count": 287,
   "metadata": {
    "scrolled": true
   },
   "outputs": [
    {
     "data": {
      "text/plain": [
       "cluster\n",
       "0    1027\n",
       "1    3706\n",
       "2       4\n",
       "3       1\n",
       "dtype: int64"
      ]
     },
     "execution_count": 287,
     "metadata": {},
     "output_type": "execute_result"
    }
   ],
   "source": [
    "df2.groupby('cluster').size()"
   ]
  },
  {
   "cell_type": "markdown",
   "metadata": {},
   "source": [
    "For some reason cluster 2 and 3 where hardly assigned any entries. But looking mainly into cluster 0 and 1 I will attempt to draw some conclusions. \n",
    "\n",
    "Cluster 0:\n",
    "- Average duration of 118 minutes\n",
    "- Average number of critic reviews was 237\n",
    "- Average budget was around 90 million\n",
    "- Facebook likes all across the board were high\n",
    "\n",
    "Cluster 1:\n",
    "- Average duration of 105 minutes\n",
    "- Average number of critic reviews was 120\n",
    "- Average budget was around 20 million\n",
    "- Facebook likes all across the board were lower\n",
    "\n",
    "Comparing the two clusters, it appears that cluster 0 was higher budget, higher profile movies. This is due to the higher budget, higher run time, more reviews, and more Facebook likes."
   ]
  },
  {
   "cell_type": "markdown",
   "metadata": {},
   "source": [
    "## Storytelling"
   ]
  },
  {
   "cell_type": "markdown",
   "metadata": {},
   "source": [
    "### What we learned that can be of value to the client"
   ]
  },
  {
   "cell_type": "markdown",
   "metadata": {},
   "source": [
    "The most important part of this analysis is to communicate insights to the client in order to provide value to them. Throughout the first half of the project we attempted to highlight the most important/high value attributes through charts and visual analysis. Now in this second part we attempted to perform a similar analysis through modeling. \n",
    "\n",
    "Through classifying using clf we were able to identify some of the most important variables in terms of their impact on IMDB score. The most important variables were found to be:\n",
    "- Number of Voted Users\n",
    "- Duration of the movie\n",
    "- Year of Release\n",
    "- Budget of the movie\n",
    "- Grossing of the movie\n",
    "- Number of critic reviews\n",
    "\n",
    "\n",
    "A regression analysis was also run to identify important variables. From the regression analysis the variables of highest importance were determined to be:\n",
    "- Duration of the movie\n",
    "- Number of critic reviews\n",
    "\n",
    "\n",
    "A few clusters were also created throughout the analysis. The cluster that had the highest average IMDB score showed these trends relative to the other clusters:\n",
    "- Longer run time(duration)\n",
    "- More critic reviews\n",
    "- Higher budget\n",
    "- More Facebook exposure\n",
    "\n"
   ]
  },
  {
   "cell_type": "markdown",
   "metadata": {},
   "source": [
    "### Suggestions for the client"
   ]
  },
  {
   "cell_type": "markdown",
   "metadata": {},
   "source": [
    "My suggestion to the client, in order to achieve the highest possible IMDB rating, make the movie a big production. I feel like making the movie a big production will allow the client to hit on all of the varaibles that have proven to yield a higher IMDB rating. The characteristics that need to be hit in this big production are as follows:\n",
    "- High Budget\n",
    "    - This means you need to pour a lot of resources into the movie\n",
    "- Longer Run time\n",
    "    - The longer run time will be more expensive but will create the\n",
    "        bigger production we are going for.\n",
    "- Create exposure\n",
    "    - More exposure on Facebook\n",
    "    - More critic reviews\n",
    "    - Higher number of voted users\n",
    "    \n",
    "If you can make the movie a large production and hit these criteria you will give yourself the best chance at yielding a high IMDB score."
   ]
  },
  {
   "cell_type": "code",
   "execution_count": null,
   "metadata": {},
   "outputs": [],
   "source": []
  }
 ],
 "metadata": {
  "kernelspec": {
   "display_name": "Python 3",
   "language": "python",
   "name": "python3"
  },
  "language_info": {
   "codemirror_mode": {
    "name": "ipython",
    "version": 3
   },
   "file_extension": ".py",
   "mimetype": "text/x-python",
   "name": "python",
   "nbconvert_exporter": "python",
   "pygments_lexer": "ipython3",
   "version": "3.7.4"
  }
 },
 "nbformat": 4,
 "nbformat_minor": 2
}
